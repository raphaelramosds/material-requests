{
 "cells": [
  {
   "cell_type": "markdown",
   "id": "9c90c811-a5c9-4272-9c30-27816bcbb55b",
   "metadata": {},
   "source": [
    "# Projeto 1\n",
    "\n",
    "## Componentes\n",
    "\n",
    "- Raphael Ramos\n",
    "- Ernane Ferreira\n",
    "\n",
    "## Dataset\n",
    "\n",
    "Usamos um dos datasets das Requisições de Materiais no grupo de Materiais, dos Dados Abertos da UFRN. Abaixo uma descrição dele"
   ]
  },
  {
   "cell_type": "code",
   "execution_count": 201,
   "id": "42cd35b1-1fc0-4249-9978-dcc87bad3cd1",
   "metadata": {
    "scrolled": true
   },
   "outputs": [
    {
     "data": {
      "text/plain": [
       "'R$             4,60'"
      ]
     },
     "execution_count": 201,
     "metadata": {},
     "output_type": "execute_result"
    }
   ],
   "source": [
    "# Importa a biblioteca pandas com o alias 'pd'\n",
    "import pandas as pd\n",
    "\n",
    "# Lê um arquivo CSV como delimitador ;\n",
    "rm = pd.read_csv('data/all_data.csv', delimiter=',')\n",
    "\n",
    "# Exibe as primeiras linhas do DataFrame 'rm' para visualizar os dados\n",
    "rm['valor'][15]"
   ]
  },
  {
   "cell_type": "markdown",
   "id": "c7d64156-6f1d-4b92-b0cb-dbdf919cdcc6",
   "metadata": {},
   "source": [
    "## Contexto\n",
    "\n",
    "Quando uma unidade precisa de algum material, ela abre uma requisição para o almoxarifado. Nessa requisição, deve ter o preço estimado desse material e a unidade que vai custear esse material. Assim, o almoxarifado pode aprová-la e dar início a ordem de compra.\n",
    "\n",
    "## Ideia\n",
    "\n",
    "Neste dataset, queremos que, dada uma requisição, prever ele vai ser negada ou autorizada pelo almoxarifado. Além disso, investigar qual perfil das requisições que têm mais chances de serem aprovadas."
   ]
  },
  {
   "cell_type": "markdown",
   "id": "ae408ad6-5e48-4818-bf34-ba7600274602",
   "metadata": {},
   "source": [
    "## Preprocessamento\n",
    "\n",
    "Como esse dataset possui registros de devolução e requisições que envolvem serviços, vamos considerar apenas as requisições de material da instituição"
   ]
  },
  {
   "cell_type": "code",
   "execution_count": 202,
   "id": "827f3079-2b6a-4c72-9a5a-41cbb72e4924",
   "metadata": {},
   "outputs": [],
   "source": [
    "# Filtre apenas as requisicoes de materiais\n",
    "df = rm[rm['tipo_requisicao'] == 'REQUISIÇÃO DE MATERIAL']"
   ]
  },
  {
   "cell_type": "markdown",
   "id": "6b21ed62-26bc-490b-874a-5486b03ac234",
   "metadata": {},
   "source": [
    "Algumas colunas em nada agregam ao nosso objetivo, portanto vamos retirá-las"
   ]
  },
  {
   "cell_type": "code",
   "execution_count": 203,
   "id": "eb825c8e-5afa-4f76-853b-396dcfb0b783",
   "metadata": {},
   "outputs": [],
   "source": [
    "# Retirar colunas\n",
    "df = df.drop([\n",
    "    'numero',\n",
    "    'ano',\n",
    "    'requisicao',\n",
    "    'data',\n",
    "    'observacoes',\n",
    "    'grupo_material',\n",
    "    'tipo_requisicao',\n",
    "    'unidade_custo',\n",
    "    'id_unidade_custo',\n",
    "    'id_unidade_requisitante'\n",
    "], axis=1)"
   ]
  },
  {
   "cell_type": "markdown",
   "id": "cf613eea-69b2-4fbe-8c16-67bd55c11aca",
   "metadata": {},
   "source": [
    "A coluna status é multivalorada, mas apenas nos importa saber se a requisição foi negada ou não."
   ]
  },
  {
   "cell_type": "code",
   "execution_count": 204,
   "id": "6d981764-8022-4984-8cb1-a62a134e8aad",
   "metadata": {},
   "outputs": [],
   "source": [
    "# Filtrar apenas requisições negadas e as que contem status posteriores a AUTORIZADA\n",
    "df = df[df['status'].isin(['NEGADA', 'AUTORIZADA', 'A_EMPENHAR', 'LIQUIDADA', 'EM_LIQUIDACAO', 'COMPRA', 'FINALIZADA'])]\n",
    "\n",
    "# Substituir 'NEGADA' por 1 e outros valores por 0 na coluna 'status'\n",
    "df['status'] = df['status'].apply(lambda x: 1 if x == 'NEGADA' else 0)"
   ]
  },
  {
   "cell_type": "markdown",
   "id": "c5e67137-fcb6-40f3-a255-6109dba279e1",
   "metadata": {},
   "source": [
    "Vamos nos deter apenas as unidades requisitantes administrativas dos departamentos da UFRN"
   ]
  },
  {
   "cell_type": "code",
   "execution_count": 205,
   "id": "c71a1b77-7276-4368-954c-8a1a76847bdf",
   "metadata": {},
   "outputs": [],
   "source": [
    "# Filtrar unidades requisitantes por tipo\n",
    "df = df[(\n",
    "    df['unidade_requisitante'].str.startswith('ADMINISTRAÇÃO') |\n",
    "    df['unidade_requisitante'].str.startswith('DIRETORIA') |\n",
    "    df['unidade_requisitante'].str.startswith('SECRETARIA') |\n",
    "    df['unidade_requisitante'].str.startswith('DEPARTAMENTO') |\n",
    "    df['unidade_requisitante'].str.startswith('COORDENAÇÃO') |\n",
    "    df['unidade_requisitante'].str.startswith('ALMOXARIFADO') \n",
    ")]\n",
    "\n",
    "# Função para realizar a substituição\n",
    "def categorize_request_unit(valor):\n",
    "    if valor.startswith(\"ADMINISTRAÇÃO\"):\n",
    "        return 0\n",
    "    elif valor.startswith(\"DIRETORIA\"):\n",
    "        return 1\n",
    "    elif valor.startswith(\"SECRETARIA\"):\n",
    "        return 2\n",
    "    elif valor.startswith(\"DEPARTAMENTO\"):\n",
    "        return 3\n",
    "    elif valor.startswith(\"COORDENAÇÃO\"):\n",
    "        return 4\n",
    "    elif valor.startswith(\"ALMOXARIFADO\"):\n",
    "        return 5\n",
    "    else:\n",
    "        # Se nenhuma das condições for atendida, mantenha o valor original\n",
    "        return valor  \n",
    "\n",
    "# Aplicar a função à coluna \"unidade_requisitante\" e criar uma nova coluna com os valores substituídos\n",
    "df['unidade_requisitante'] = df['unidade_requisitante'].apply(categorize_request_unit)\n"
   ]
  },
  {
   "cell_type": "markdown",
   "id": "7919ba95-bace-42ba-9bb4-403274d747f6",
   "metadata": {},
   "source": [
    "As colunas convenio e almoxarifado são interessantes, mas são categóricas. Portanto, precisão ser tratadas. Abaixo uma função que facilita esse trabalho"
   ]
  },
  {
   "cell_type": "code",
   "execution_count": 206,
   "id": "73adffc6-b8c3-407b-b653-eb277b3045b2",
   "metadata": {},
   "outputs": [],
   "source": [
    "from sklearn.preprocessing import LabelEncoder\n",
    "\n",
    "def categorize(dataframe, column):\n",
    "    \"\"\"\n",
    "    Recebe um dataframe e a coluna com os dados categóricos que se quer rotular\n",
    "\n",
    "    Args:\n",
    "        dataframe (object DataFrame)\n",
    "        column (string)\n",
    "    \"\"\"\n",
    "    # Identificar categorias de column\n",
    "    data = {category for category in set(dataframe[column])} \n",
    "    \n",
    "    # Traduzir cada categoria para numeros\n",
    "    label_encoder = LabelEncoder()\n",
    "    \n",
    "    # Atualiza no dataframe\n",
    "    dataframe[column] = label_encoder.fit_transform(dataframe[column])\n",
    "    \n",
    "    # Obtenha as categorias originais e seus rótulos numéricos\n",
    "    categories = label_encoder.classes_\n",
    "    labels = label_encoder.transform(categories)\n",
    "\n",
    "    # Visualizar mapeamento\n",
    "    display(pd.DataFrame({'Categoria':categories, 'Rótulo Numérico': labels}))"
   ]
  },
  {
   "cell_type": "code",
   "execution_count": 207,
   "id": "fe4b574d-a547-45bd-98c2-f13e7e38c8bb",
   "metadata": {
    "scrolled": true
   },
   "outputs": [
    {
     "data": {
      "text/html": [
       "<div>\n",
       "<style scoped>\n",
       "    .dataframe tbody tr th:only-of-type {\n",
       "        vertical-align: middle;\n",
       "    }\n",
       "\n",
       "    .dataframe tbody tr th {\n",
       "        vertical-align: top;\n",
       "    }\n",
       "\n",
       "    .dataframe thead th {\n",
       "        text-align: right;\n",
       "    }\n",
       "</style>\n",
       "<table border=\"1\" class=\"dataframe\">\n",
       "  <thead>\n",
       "    <tr style=\"text-align: right;\">\n",
       "      <th></th>\n",
       "      <th>Categoria</th>\n",
       "      <th>Rótulo Numérico</th>\n",
       "    </tr>\n",
       "  </thead>\n",
       "  <tbody>\n",
       "    <tr>\n",
       "      <th>0</th>\n",
       "      <td>False</td>\n",
       "      <td>0</td>\n",
       "    </tr>\n",
       "    <tr>\n",
       "      <th>1</th>\n",
       "      <td>True</td>\n",
       "      <td>1</td>\n",
       "    </tr>\n",
       "  </tbody>\n",
       "</table>\n",
       "</div>"
      ],
      "text/plain": [
       "   Categoria  Rótulo Numérico\n",
       "0      False                0\n",
       "1       True                1"
      ]
     },
     "metadata": {},
     "output_type": "display_data"
    }
   ],
   "source": [
    "categorize(df, 'convenio')"
   ]
  },
  {
   "cell_type": "code",
   "execution_count": 208,
   "id": "b23fb71a-3491-4cb4-8d36-5b2323e604e7",
   "metadata": {},
   "outputs": [
    {
     "data": {
      "text/html": [
       "<div>\n",
       "<style scoped>\n",
       "    .dataframe tbody tr th:only-of-type {\n",
       "        vertical-align: middle;\n",
       "    }\n",
       "\n",
       "    .dataframe tbody tr th {\n",
       "        vertical-align: top;\n",
       "    }\n",
       "\n",
       "    .dataframe thead th {\n",
       "        text-align: right;\n",
       "    }\n",
       "</style>\n",
       "<table border=\"1\" class=\"dataframe\">\n",
       "  <thead>\n",
       "    <tr style=\"text-align: right;\">\n",
       "      <th></th>\n",
       "      <th>Categoria</th>\n",
       "      <th>Rótulo Numérico</th>\n",
       "    </tr>\n",
       "  </thead>\n",
       "  <tbody>\n",
       "    <tr>\n",
       "      <th>0</th>\n",
       "      <td>ALMOXARIFADO - CB</td>\n",
       "      <td>0</td>\n",
       "    </tr>\n",
       "    <tr>\n",
       "      <th>1</th>\n",
       "      <td>ALMOXARIFADO - CCET</td>\n",
       "      <td>1</td>\n",
       "    </tr>\n",
       "    <tr>\n",
       "      <th>2</th>\n",
       "      <td>ALMOXARIFADO - CCHLA</td>\n",
       "      <td>2</td>\n",
       "    </tr>\n",
       "    <tr>\n",
       "      <th>3</th>\n",
       "      <td>ALMOXARIFADO - CCHLA - PORTARIA 097/2014</td>\n",
       "      <td>3</td>\n",
       "    </tr>\n",
       "    <tr>\n",
       "      <th>4</th>\n",
       "      <td>ALMOXARIFADO - CCS</td>\n",
       "      <td>4</td>\n",
       "    </tr>\n",
       "    <tr>\n",
       "      <th>5</th>\n",
       "      <td>ALMOXARIFADO - CCSA</td>\n",
       "      <td>5</td>\n",
       "    </tr>\n",
       "    <tr>\n",
       "      <th>6</th>\n",
       "      <td>ALMOXARIFADO - CERES</td>\n",
       "      <td>6</td>\n",
       "    </tr>\n",
       "    <tr>\n",
       "      <th>7</th>\n",
       "      <td>ALMOXARIFADO - CT</td>\n",
       "      <td>7</td>\n",
       "    </tr>\n",
       "    <tr>\n",
       "      <th>8</th>\n",
       "      <td>ALMOXARIFADO - FACISA</td>\n",
       "      <td>8</td>\n",
       "    </tr>\n",
       "    <tr>\n",
       "      <th>9</th>\n",
       "      <td>ALMOXARIFADO - RESTAURANTE UNIVERSITÁRIO</td>\n",
       "      <td>9</td>\n",
       "    </tr>\n",
       "    <tr>\n",
       "      <th>10</th>\n",
       "      <td>ALMOXARIFADO CENTRAL</td>\n",
       "      <td>10</td>\n",
       "    </tr>\n",
       "    <tr>\n",
       "      <th>11</th>\n",
       "      <td>ALMOXARIFADO DA ESCOLA MULTICAMPI</td>\n",
       "      <td>11</td>\n",
       "    </tr>\n",
       "    <tr>\n",
       "      <th>12</th>\n",
       "      <td>ALMOXARIFADO DE MATERIAIS DE MANUTENÇÃO DE IMÓ...</td>\n",
       "      <td>12</td>\n",
       "    </tr>\n",
       "    <tr>\n",
       "      <th>13</th>\n",
       "      <td>ALMOXARIFADO DO CENTRO DE EDUCAÇÃO</td>\n",
       "      <td>13</td>\n",
       "    </tr>\n",
       "    <tr>\n",
       "      <th>14</th>\n",
       "      <td>ALMOXARIFADO HUAB</td>\n",
       "      <td>14</td>\n",
       "    </tr>\n",
       "    <tr>\n",
       "      <th>15</th>\n",
       "      <td>HUOL - ALMOXARIFADO GERAL</td>\n",
       "      <td>15</td>\n",
       "    </tr>\n",
       "    <tr>\n",
       "      <th>16</th>\n",
       "      <td>MEJC - ALMOXARIFADO GERAL</td>\n",
       "      <td>16</td>\n",
       "    </tr>\n",
       "    <tr>\n",
       "      <th>17</th>\n",
       "      <td>NaN</td>\n",
       "      <td>17</td>\n",
       "    </tr>\n",
       "  </tbody>\n",
       "</table>\n",
       "</div>"
      ],
      "text/plain": [
       "                                            Categoria  Rótulo Numérico\n",
       "0                                   ALMOXARIFADO - CB                0\n",
       "1                                 ALMOXARIFADO - CCET                1\n",
       "2                                ALMOXARIFADO - CCHLA                2\n",
       "3            ALMOXARIFADO - CCHLA - PORTARIA 097/2014                3\n",
       "4                                  ALMOXARIFADO - CCS                4\n",
       "5                                 ALMOXARIFADO - CCSA                5\n",
       "6                                ALMOXARIFADO - CERES                6\n",
       "7                                   ALMOXARIFADO - CT                7\n",
       "8                               ALMOXARIFADO - FACISA                8\n",
       "9            ALMOXARIFADO - RESTAURANTE UNIVERSITÁRIO                9\n",
       "10                               ALMOXARIFADO CENTRAL               10\n",
       "11                  ALMOXARIFADO DA ESCOLA MULTICAMPI               11\n",
       "12  ALMOXARIFADO DE MATERIAIS DE MANUTENÇÃO DE IMÓ...               12\n",
       "13                 ALMOXARIFADO DO CENTRO DE EDUCAÇÃO               13\n",
       "14                                  ALMOXARIFADO HUAB               14\n",
       "15                          HUOL - ALMOXARIFADO GERAL               15\n",
       "16                          MEJC - ALMOXARIFADO GERAL               16\n",
       "17                                                NaN               17"
      ]
     },
     "metadata": {},
     "output_type": "display_data"
    }
   ],
   "source": [
    "# Categorize\n",
    "categorize(df, 'almoxarifado')"
   ]
  },
  {
   "cell_type": "markdown",
   "id": "5960e3eb-6528-4d55-a117-b9e1bffdf134",
   "metadata": {},
   "source": [
    "A coluna `valor` precisa ser transformada em valores decimais"
   ]
  },
  {
   "cell_type": "code",
   "execution_count": 209,
   "id": "c78ec7a8-90d3-443a-a563-21cfb418932d",
   "metadata": {},
   "outputs": [],
   "source": [
    "import re\n",
    "\n",
    "rgx_remove_trash = r'R\\$|\\s'\n",
    "rgx_only_last_point = r'\\.(?=[^.]*\\.)'\n",
    "\n",
    "df.loc[:,'valor'] = df['valor'].apply(lambda value: re.sub(rgx_only_last_point, '', re.sub(rgx_remove_trash, '', value).replace(',', '.')))\n",
    "df.loc[:,'valor'] = df['valor'].astype(float)"
   ]
  },
  {
   "cell_type": "markdown",
   "id": "ead5b165-79ba-430d-9ebb-03a0421c9dcf",
   "metadata": {},
   "source": [
    "Abaixo está o dataset após as remoções e categorização das colunas que possuem dados não contínuos"
   ]
  },
  {
   "cell_type": "code",
   "execution_count": 210,
   "id": "a0e7e2f5-ec8c-49c8-b73a-cfd14ed52fc0",
   "metadata": {
    "scrolled": true
   },
   "outputs": [
    {
     "data": {
      "text/html": [
       "<div>\n",
       "<style scoped>\n",
       "    .dataframe tbody tr th:only-of-type {\n",
       "        vertical-align: middle;\n",
       "    }\n",
       "\n",
       "    .dataframe tbody tr th {\n",
       "        vertical-align: top;\n",
       "    }\n",
       "\n",
       "    .dataframe thead th {\n",
       "        text-align: right;\n",
       "    }\n",
       "</style>\n",
       "<table border=\"1\" class=\"dataframe\">\n",
       "  <thead>\n",
       "    <tr style=\"text-align: right;\">\n",
       "      <th></th>\n",
       "      <th>unidade_requisitante</th>\n",
       "      <th>convenio</th>\n",
       "      <th>status</th>\n",
       "      <th>almoxarifado</th>\n",
       "      <th>valor</th>\n",
       "    </tr>\n",
       "  </thead>\n",
       "  <tbody>\n",
       "    <tr>\n",
       "      <th>4</th>\n",
       "      <td>1</td>\n",
       "      <td>0</td>\n",
       "      <td>0</td>\n",
       "      <td>10</td>\n",
       "      <td>86.56</td>\n",
       "    </tr>\n",
       "    <tr>\n",
       "      <th>5</th>\n",
       "      <td>1</td>\n",
       "      <td>0</td>\n",
       "      <td>0</td>\n",
       "      <td>10</td>\n",
       "      <td>16.38</td>\n",
       "    </tr>\n",
       "    <tr>\n",
       "      <th>7</th>\n",
       "      <td>1</td>\n",
       "      <td>0</td>\n",
       "      <td>0</td>\n",
       "      <td>10</td>\n",
       "      <td>71.64</td>\n",
       "    </tr>\n",
       "    <tr>\n",
       "      <th>8</th>\n",
       "      <td>1</td>\n",
       "      <td>0</td>\n",
       "      <td>0</td>\n",
       "      <td>10</td>\n",
       "      <td>18.48</td>\n",
       "    </tr>\n",
       "    <tr>\n",
       "      <th>15</th>\n",
       "      <td>1</td>\n",
       "      <td>0</td>\n",
       "      <td>0</td>\n",
       "      <td>10</td>\n",
       "      <td>4.6</td>\n",
       "    </tr>\n",
       "    <tr>\n",
       "      <th>...</th>\n",
       "      <td>...</td>\n",
       "      <td>...</td>\n",
       "      <td>...</td>\n",
       "      <td>...</td>\n",
       "      <td>...</td>\n",
       "    </tr>\n",
       "    <tr>\n",
       "      <th>623787</th>\n",
       "      <td>5</td>\n",
       "      <td>0</td>\n",
       "      <td>0</td>\n",
       "      <td>10</td>\n",
       "      <td>67.85</td>\n",
       "    </tr>\n",
       "    <tr>\n",
       "      <th>623788</th>\n",
       "      <td>5</td>\n",
       "      <td>0</td>\n",
       "      <td>0</td>\n",
       "      <td>10</td>\n",
       "      <td>67.85</td>\n",
       "    </tr>\n",
       "    <tr>\n",
       "      <th>623791</th>\n",
       "      <td>5</td>\n",
       "      <td>0</td>\n",
       "      <td>0</td>\n",
       "      <td>10</td>\n",
       "      <td>104.7</td>\n",
       "    </tr>\n",
       "    <tr>\n",
       "      <th>623792</th>\n",
       "      <td>5</td>\n",
       "      <td>0</td>\n",
       "      <td>0</td>\n",
       "      <td>10</td>\n",
       "      <td>104.7</td>\n",
       "    </tr>\n",
       "    <tr>\n",
       "      <th>623794</th>\n",
       "      <td>5</td>\n",
       "      <td>0</td>\n",
       "      <td>0</td>\n",
       "      <td>10</td>\n",
       "      <td>174.5</td>\n",
       "    </tr>\n",
       "  </tbody>\n",
       "</table>\n",
       "<p>117438 rows × 5 columns</p>\n",
       "</div>"
      ],
      "text/plain": [
       "        unidade_requisitante  convenio  status  almoxarifado  valor\n",
       "4                          1         0       0            10  86.56\n",
       "5                          1         0       0            10  16.38\n",
       "7                          1         0       0            10  71.64\n",
       "8                          1         0       0            10  18.48\n",
       "15                         1         0       0            10    4.6\n",
       "...                      ...       ...     ...           ...    ...\n",
       "623787                     5         0       0            10  67.85\n",
       "623788                     5         0       0            10  67.85\n",
       "623791                     5         0       0            10  104.7\n",
       "623792                     5         0       0            10  104.7\n",
       "623794                     5         0       0            10  174.5\n",
       "\n",
       "[117438 rows x 5 columns]"
      ]
     },
     "execution_count": 210,
     "metadata": {},
     "output_type": "execute_result"
    }
   ],
   "source": [
    "df"
   ]
  },
  {
   "cell_type": "markdown",
   "id": "7abffc43-ab04-47f6-b120-189db8514077",
   "metadata": {},
   "source": [
    "Observe que os valores (em reais) das requisições são muito discrepantes em relação as numerações das categorias que fizemos. Podemos ter uma ideia dessa discrepância ao visualizar um boxplot de cada coluna"
   ]
  },
  {
   "cell_type": "code",
   "execution_count": 211,
   "id": "b6a82350-67a5-436a-81af-654d009a9989",
   "metadata": {
    "scrolled": true
   },
   "outputs": [
    {
     "data": {
      "image/png": "[encoded data removed]",
      "text/plain": [
       "<Figure size 640x480 with 1 Axes>"
      ]
     },
     "metadata": {},
     "output_type": "display_data"
    }
   ],
   "source": [
    "import matplotlib.pyplot as plt\n",
    "\n",
    "plt.boxplot(df['valor'])\n",
    "plt.show()"
   ]
  },
  {
   "cell_type": "code",
   "execution_count": 212,
   "id": "ece8079f-07fe-4209-ab1d-87625941b505",
   "metadata": {
    "scrolled": true
   },
   "outputs": [
    {
     "data": {
      "image/png": "[encoded data removed]",
      "text/plain": [
       "<Figure size 640x480 with 1 Axes>"
      ]
     },
     "metadata": {},
     "output_type": "display_data"
    }
   ],
   "source": [
    "# Remover valores outliers\n",
    "df = df.loc[df['valor'] < 130]\n",
    "plt.boxplot(df['valor'])\n",
    "plt.show()"
   ]
  },
  {
   "cell_type": "markdown",
   "id": "d1cd4915-4fbe-4321-8494-fb3ef6817140",
   "metadata": {},
   "source": [
    "Verificar linhas que possuem valores NaN"
   ]
  },
  {
   "cell_type": "code",
   "execution_count": 213,
   "id": "7e46c085-5722-4277-93c1-0d5df5e4420d",
   "metadata": {},
   "outputs": [
    {
     "data": {
      "text/plain": [
       "unidade_requisitante    0\n",
       "convenio                0\n",
       "status                  0\n",
       "almoxarifado            0\n",
       "valor                   0\n",
       "dtype: int64"
      ]
     },
     "execution_count": 213,
     "metadata": {},
     "output_type": "execute_result"
    }
   ],
   "source": [
    "df.isna().sum()"
   ]
  },
  {
   "cell_type": "markdown",
   "id": "b582e32e-cd50-4a01-a126-9bb5e6e44a46",
   "metadata": {},
   "source": [
    "Abaixo está o dataset apos o preprocessamento"
   ]
  },
  {
   "cell_type": "code",
   "execution_count": 214,
   "id": "ebbba271-88dd-4853-95f3-147e448660f6",
   "metadata": {},
   "outputs": [
    {
     "data": {
      "text/html": [
       "<div>\n",
       "<style scoped>\n",
       "    .dataframe tbody tr th:only-of-type {\n",
       "        vertical-align: middle;\n",
       "    }\n",
       "\n",
       "    .dataframe tbody tr th {\n",
       "        vertical-align: top;\n",
       "    }\n",
       "\n",
       "    .dataframe thead th {\n",
       "        text-align: right;\n",
       "    }\n",
       "</style>\n",
       "<table border=\"1\" class=\"dataframe\">\n",
       "  <thead>\n",
       "    <tr style=\"text-align: right;\">\n",
       "      <th></th>\n",
       "      <th>unidade_requisitante</th>\n",
       "      <th>convenio</th>\n",
       "      <th>status</th>\n",
       "      <th>almoxarifado</th>\n",
       "      <th>valor</th>\n",
       "    </tr>\n",
       "  </thead>\n",
       "  <tbody>\n",
       "    <tr>\n",
       "      <th>4</th>\n",
       "      <td>1</td>\n",
       "      <td>0</td>\n",
       "      <td>0</td>\n",
       "      <td>10</td>\n",
       "      <td>86.56</td>\n",
       "    </tr>\n",
       "    <tr>\n",
       "      <th>5</th>\n",
       "      <td>1</td>\n",
       "      <td>0</td>\n",
       "      <td>0</td>\n",
       "      <td>10</td>\n",
       "      <td>16.38</td>\n",
       "    </tr>\n",
       "    <tr>\n",
       "      <th>7</th>\n",
       "      <td>1</td>\n",
       "      <td>0</td>\n",
       "      <td>0</td>\n",
       "      <td>10</td>\n",
       "      <td>71.64</td>\n",
       "    </tr>\n",
       "    <tr>\n",
       "      <th>8</th>\n",
       "      <td>1</td>\n",
       "      <td>0</td>\n",
       "      <td>0</td>\n",
       "      <td>10</td>\n",
       "      <td>18.48</td>\n",
       "    </tr>\n",
       "    <tr>\n",
       "      <th>15</th>\n",
       "      <td>1</td>\n",
       "      <td>0</td>\n",
       "      <td>0</td>\n",
       "      <td>10</td>\n",
       "      <td>4.6</td>\n",
       "    </tr>\n",
       "    <tr>\n",
       "      <th>...</th>\n",
       "      <td>...</td>\n",
       "      <td>...</td>\n",
       "      <td>...</td>\n",
       "      <td>...</td>\n",
       "      <td>...</td>\n",
       "    </tr>\n",
       "    <tr>\n",
       "      <th>623784</th>\n",
       "      <td>3</td>\n",
       "      <td>0</td>\n",
       "      <td>0</td>\n",
       "      <td>2</td>\n",
       "      <td>3.49</td>\n",
       "    </tr>\n",
       "    <tr>\n",
       "      <th>623787</th>\n",
       "      <td>5</td>\n",
       "      <td>0</td>\n",
       "      <td>0</td>\n",
       "      <td>10</td>\n",
       "      <td>67.85</td>\n",
       "    </tr>\n",
       "    <tr>\n",
       "      <th>623788</th>\n",
       "      <td>5</td>\n",
       "      <td>0</td>\n",
       "      <td>0</td>\n",
       "      <td>10</td>\n",
       "      <td>67.85</td>\n",
       "    </tr>\n",
       "    <tr>\n",
       "      <th>623791</th>\n",
       "      <td>5</td>\n",
       "      <td>0</td>\n",
       "      <td>0</td>\n",
       "      <td>10</td>\n",
       "      <td>104.7</td>\n",
       "    </tr>\n",
       "    <tr>\n",
       "      <th>623792</th>\n",
       "      <td>5</td>\n",
       "      <td>0</td>\n",
       "      <td>0</td>\n",
       "      <td>10</td>\n",
       "      <td>104.7</td>\n",
       "    </tr>\n",
       "  </tbody>\n",
       "</table>\n",
       "<p>85927 rows × 5 columns</p>\n",
       "</div>"
      ],
      "text/plain": [
       "        unidade_requisitante  convenio  status  almoxarifado  valor\n",
       "4                          1         0       0            10  86.56\n",
       "5                          1         0       0            10  16.38\n",
       "7                          1         0       0            10  71.64\n",
       "8                          1         0       0            10  18.48\n",
       "15                         1         0       0            10    4.6\n",
       "...                      ...       ...     ...           ...    ...\n",
       "623784                     3         0       0             2   3.49\n",
       "623787                     5         0       0            10  67.85\n",
       "623788                     5         0       0            10  67.85\n",
       "623791                     5         0       0            10  104.7\n",
       "623792                     5         0       0            10  104.7\n",
       "\n",
       "[85927 rows x 5 columns]"
      ]
     },
     "execution_count": 214,
     "metadata": {},
     "output_type": "execute_result"
    }
   ],
   "source": [
    "df"
   ]
  }
 ],
 "metadata": {
  "kernelspec": {
   "display_name": "Python 3 (ipykernel)",
   "language": "python",
   "name": "python3"
  },
  "language_info": {
   "codemirror_mode": {
    "name": "ipython",
    "version": 3
   },
   "file_extension": ".py",
   "mimetype": "text/x-python",
   "name": "python",
   "nbconvert_exporter": "python",
   "pygments_lexer": "ipython3",
   "version": "3.10.11"
  }
 },
 "nbformat": 4,
 "nbformat_minor": 5
}
