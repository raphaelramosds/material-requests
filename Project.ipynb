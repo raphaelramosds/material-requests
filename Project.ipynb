{
 "cells": [
  {
   "cell_type": "markdown",
   "id": "9c90c811-a5c9-4272-9c30-27816bcbb55b",
   "metadata": {},
   "source": [
    "# Status de Requições de Materiais\n",
    "\n",
    "## Componentes\n",
    "\n",
    "- Raphael Ramos\n",
    "- Ernane Ferreira\n",
    "\n",
    "## Dataset\n",
    "\n",
    "Usamos um dos datasets das Requisições de Materiais no grupo de Materiais, dos Dados Abertos da UFRN. Abaixo uma descrição dele"
   ]
  },
  {
   "cell_type": "code",
   "execution_count": 78,
   "id": "42cd35b1-1fc0-4249-9978-dcc87bad3cd1",
   "metadata": {
    "scrolled": true
   },
   "outputs": [
    {
     "data": {
      "text/html": [
       "<div>\n",
       "<style scoped>\n",
       "    .dataframe tbody tr th:only-of-type {\n",
       "        vertical-align: middle;\n",
       "    }\n",
       "\n",
       "    .dataframe tbody tr th {\n",
       "        vertical-align: top;\n",
       "    }\n",
       "\n",
       "    .dataframe thead th {\n",
       "        text-align: right;\n",
       "    }\n",
       "</style>\n",
       "<table border=\"1\" class=\"dataframe\">\n",
       "  <thead>\n",
       "    <tr style=\"text-align: right;\">\n",
       "      <th></th>\n",
       "      <th>numero</th>\n",
       "      <th>ano</th>\n",
       "      <th>requisicao</th>\n",
       "      <th>data</th>\n",
       "      <th>id_unidade_requisitante</th>\n",
       "      <th>unidade_requisitante</th>\n",
       "      <th>id_unidade_custo</th>\n",
       "      <th>unidade_custo</th>\n",
       "      <th>observacoes</th>\n",
       "      <th>grupo_material</th>\n",
       "      <th>convenio</th>\n",
       "      <th>status</th>\n",
       "      <th>tipo_requisicao</th>\n",
       "      <th>almoxarifado</th>\n",
       "      <th>valor</th>\n",
       "    </tr>\n",
       "  </thead>\n",
       "  <tbody>\n",
       "    <tr>\n",
       "      <th>0</th>\n",
       "      <td>9858</td>\n",
       "      <td>1999</td>\n",
       "      <td>9858/1999</td>\n",
       "      <td>31/12/1999</td>\n",
       "      <td>446</td>\n",
       "      <td>HOSPITAL UNIVERSITÁRIO ONOFRE LOPES</td>\n",
       "      <td>446</td>\n",
       "      <td>HOSPITAL UNIVERSITÁRIO ONOFRE LOPES</td>\n",
       "      <td>NaN</td>\n",
       "      <td>GAS ENGARRAFADO</td>\n",
       "      <td>False</td>\n",
       "      <td>FINALIZADA</td>\n",
       "      <td>REQUISIÇÃO DE MATERIAL</td>\n",
       "      <td>ALMOXARIFADO CENTRAL</td>\n",
       "      <td>R$           224,00</td>\n",
       "    </tr>\n",
       "    <tr>\n",
       "      <th>1</th>\n",
       "      <td>9857</td>\n",
       "      <td>1999</td>\n",
       "      <td>9857/1999</td>\n",
       "      <td>31/12/1999</td>\n",
       "      <td>446</td>\n",
       "      <td>HOSPITAL UNIVERSITÁRIO ONOFRE LOPES</td>\n",
       "      <td>446</td>\n",
       "      <td>HOSPITAL UNIVERSITÁRIO ONOFRE LOPES</td>\n",
       "      <td>NaN</td>\n",
       "      <td>GENEROS DE ALIMENTACAO</td>\n",
       "      <td>False</td>\n",
       "      <td>FINALIZADA</td>\n",
       "      <td>REQUISIÇÃO DE MATERIAL</td>\n",
       "      <td>ALMOXARIFADO CENTRAL</td>\n",
       "      <td>R$            23,00</td>\n",
       "    </tr>\n",
       "    <tr>\n",
       "      <th>2</th>\n",
       "      <td>9856</td>\n",
       "      <td>1999</td>\n",
       "      <td>9856/1999</td>\n",
       "      <td>31/12/1999</td>\n",
       "      <td>446</td>\n",
       "      <td>HOSPITAL UNIVERSITÁRIO ONOFRE LOPES</td>\n",
       "      <td>446</td>\n",
       "      <td>HOSPITAL UNIVERSITÁRIO ONOFRE LOPES</td>\n",
       "      <td>NaN</td>\n",
       "      <td>GAS ENGARRAFADO</td>\n",
       "      <td>False</td>\n",
       "      <td>FINALIZADA</td>\n",
       "      <td>REQUISIÇÃO DE MATERIAL</td>\n",
       "      <td>ALMOXARIFADO CENTRAL</td>\n",
       "      <td>R$         2.080,00</td>\n",
       "    </tr>\n",
       "    <tr>\n",
       "      <th>3</th>\n",
       "      <td>9855</td>\n",
       "      <td>1999</td>\n",
       "      <td>9855/1999</td>\n",
       "      <td>31/12/1999</td>\n",
       "      <td>1751</td>\n",
       "      <td>DEPARTAMENTO DE ASSISTENCIA AO SERVIDOR - APAGAR</td>\n",
       "      <td>1751</td>\n",
       "      <td>DEPARTAMENTO DE ASSISTENCIA AO SERVIDOR - APAGAR</td>\n",
       "      <td>NaN</td>\n",
       "      <td>GENEROS DE ALIMENTACAO</td>\n",
       "      <td>False</td>\n",
       "      <td>FINALIZADA</td>\n",
       "      <td>REQUISIÇÃO DE MATERIAL</td>\n",
       "      <td>ALMOXARIFADO CENTRAL</td>\n",
       "      <td>R$           174,78</td>\n",
       "    </tr>\n",
       "    <tr>\n",
       "      <th>4</th>\n",
       "      <td>9854</td>\n",
       "      <td>1999</td>\n",
       "      <td>9854/1999</td>\n",
       "      <td>31/12/1999</td>\n",
       "      <td>1751</td>\n",
       "      <td>DEPARTAMENTO DE ASSISTENCIA AO SERVIDOR - APAGAR</td>\n",
       "      <td>1751</td>\n",
       "      <td>DEPARTAMENTO DE ASSISTENCIA AO SERVIDOR - APAGAR</td>\n",
       "      <td>NaN</td>\n",
       "      <td>MATERIAL DE LIMPEZA E PRODUTOS DE HIGIENIZACAO</td>\n",
       "      <td>False</td>\n",
       "      <td>FINALIZADA</td>\n",
       "      <td>REQUISIÇÃO DE MATERIAL</td>\n",
       "      <td>ALMOXARIFADO CENTRAL</td>\n",
       "      <td>R$            13,20</td>\n",
       "    </tr>\n",
       "  </tbody>\n",
       "</table>\n",
       "</div>"
      ],
      "text/plain": [
       "   numero   ano requisicao        data  id_unidade_requisitante  \\\n",
       "0    9858  1999  9858/1999  31/12/1999                      446   \n",
       "1    9857  1999  9857/1999  31/12/1999                      446   \n",
       "2    9856  1999  9856/1999  31/12/1999                      446   \n",
       "3    9855  1999  9855/1999  31/12/1999                     1751   \n",
       "4    9854  1999  9854/1999  31/12/1999                     1751   \n",
       "\n",
       "                               unidade_requisitante  id_unidade_custo  \\\n",
       "0               HOSPITAL UNIVERSITÁRIO ONOFRE LOPES               446   \n",
       "1               HOSPITAL UNIVERSITÁRIO ONOFRE LOPES               446   \n",
       "2               HOSPITAL UNIVERSITÁRIO ONOFRE LOPES               446   \n",
       "3  DEPARTAMENTO DE ASSISTENCIA AO SERVIDOR - APAGAR              1751   \n",
       "4  DEPARTAMENTO DE ASSISTENCIA AO SERVIDOR - APAGAR              1751   \n",
       "\n",
       "                                      unidade_custo observacoes  \\\n",
       "0               HOSPITAL UNIVERSITÁRIO ONOFRE LOPES         NaN   \n",
       "1               HOSPITAL UNIVERSITÁRIO ONOFRE LOPES         NaN   \n",
       "2               HOSPITAL UNIVERSITÁRIO ONOFRE LOPES         NaN   \n",
       "3  DEPARTAMENTO DE ASSISTENCIA AO SERVIDOR - APAGAR         NaN   \n",
       "4  DEPARTAMENTO DE ASSISTENCIA AO SERVIDOR - APAGAR         NaN   \n",
       "\n",
       "                                   grupo_material  convenio      status  \\\n",
       "0                                 GAS ENGARRAFADO     False  FINALIZADA   \n",
       "1                          GENEROS DE ALIMENTACAO     False  FINALIZADA   \n",
       "2                                 GAS ENGARRAFADO     False  FINALIZADA   \n",
       "3                          GENEROS DE ALIMENTACAO     False  FINALIZADA   \n",
       "4  MATERIAL DE LIMPEZA E PRODUTOS DE HIGIENIZACAO     False  FINALIZADA   \n",
       "\n",
       "          tipo_requisicao          almoxarifado                valor  \n",
       "0  REQUISIÇÃO DE MATERIAL  ALMOXARIFADO CENTRAL  R$           224,00  \n",
       "1  REQUISIÇÃO DE MATERIAL  ALMOXARIFADO CENTRAL  R$            23,00  \n",
       "2  REQUISIÇÃO DE MATERIAL  ALMOXARIFADO CENTRAL  R$         2.080,00  \n",
       "3  REQUISIÇÃO DE MATERIAL  ALMOXARIFADO CENTRAL  R$           174,78  \n",
       "4  REQUISIÇÃO DE MATERIAL  ALMOXARIFADO CENTRAL  R$            13,20  "
      ]
     },
     "execution_count": 78,
     "metadata": {},
     "output_type": "execute_result"
    }
   ],
   "source": [
    "# Importa a biblioteca pandas com o alias 'pd'\n",
    "import pandas as pd\n",
    "\n",
    "# Lê um arquivo CSV como delimitador ;\n",
    "rm = pd.read_csv('data/all_data.csv', delimiter=',')\n",
    "\n",
    "# Exibe as primeiras linhas do DataFrame 'rm' para visualizar os dados\n",
    "rm.head()"
   ]
  },
  {
   "cell_type": "markdown",
   "id": "c7d64156-6f1d-4b92-b0cb-dbdf919cdcc6",
   "metadata": {},
   "source": [
    "## Contexto\n",
    "\n",
    "Quando uma unidade precisa de algum material, ela abre uma requisição para o almoxarifado. Nessa requisição, deve ter o preço estimado desse material e a unidade que vai custear esse material. Assim, o almoxarifado pode aprová-la e dar início a ordem de compra.\n",
    "\n",
    "## Ideia\n",
    "\n",
    "Neste dataset, queremos que, dada uma requisição, prever ele vai ser negada ou autorizada pelo almoxarifado. Além disso, investigar qual perfil das requisições que têm mais chances de serem aprovadas."
   ]
  },
  {
   "cell_type": "markdown",
   "id": "ae408ad6-5e48-4818-bf34-ba7600274602",
   "metadata": {},
   "source": [
    "## Preprocessamento\n",
    "\n",
    "Como esse dataset possui registros de devolução e requisições que envolvem serviços, vamos considerar apenas as requisições de material da instituição"
   ]
  },
  {
   "cell_type": "code",
   "execution_count": 79,
   "id": "827f3079-2b6a-4c72-9a5a-41cbb72e4924",
   "metadata": {},
   "outputs": [],
   "source": [
    "df = rm[rm['tipo_requisicao'] == 'REQUISIÇÃO DE MATERIAL']"
   ]
  },
  {
   "cell_type": "markdown",
   "id": "6b21ed62-26bc-490b-874a-5486b03ac234",
   "metadata": {},
   "source": [
    "Algumas colunas em nada agregam ao nosso objetivo, portanto vamos retirá-las"
   ]
  },
  {
   "cell_type": "code",
   "execution_count": 80,
   "id": "eb825c8e-5afa-4f76-853b-396dcfb0b783",
   "metadata": {},
   "outputs": [],
   "source": [
    "df = df.drop(['numero','ano','requisicao','data','observacoes','grupo_material','tipo_requisicao','unidade_custo','id_unidade_custo','id_unidade_requisitante'], axis=1)"
   ]
  },
  {
   "cell_type": "markdown",
   "id": "cf613eea-69b2-4fbe-8c16-67bd55c11aca",
   "metadata": {},
   "source": [
    "A coluna status é multivalorada, mas apenas nos importa saber se a requisição foi negada ou não."
   ]
  },
  {
   "cell_type": "code",
   "execution_count": 81,
   "id": "6d981764-8022-4984-8cb1-a62a134e8aad",
   "metadata": {},
   "outputs": [],
   "source": [
    "# Filtrar apenas requisições negadas, autorizadas e que tiveram a compra efetuada\n",
    "df = df[df['status'].isin(['NEGADA', 'AUTORIZADA', 'COMPRA', 'LIQUIDADA', 'EM_LIQUIDACAO'])]\n",
    "\n",
    "# Substituir 'NEGADA' por 1 e outros valores por 0 na coluna 'status'\n",
    "df['status'] = df['status'].apply(lambda x: 1 if x == 'NEGADA' else 0)"
   ]
  },
  {
   "cell_type": "markdown",
   "id": "c5e67137-fcb6-40f3-a255-6109dba279e1",
   "metadata": {},
   "source": [
    "Vamos categorizar as unidades requisitantes por grupos que a princípio conhecemos"
   ]
  },
  {
   "cell_type": "code",
   "execution_count": 82,
   "id": "c71a1b77-7276-4368-954c-8a1a76847bdf",
   "metadata": {},
   "outputs": [],
   "source": [
    "# Função para realizar a substituição\n",
    "def categorize_request_unit(valor):\n",
    "    if valor.startswith(\"ADMINISTRAÇÃO\"):\n",
    "        return 0\n",
    "    elif valor.startswith(\"DIRETORIA\"):\n",
    "        return 1\n",
    "    elif valor.startswith(\"SECRETARIA\"):\n",
    "        return 2\n",
    "    elif valor.startswith(\"DEPARTAMENTO\"):\n",
    "        return 3\n",
    "    elif valor.startswith(\"COORDENAÇÃO\"):\n",
    "        return 4\n",
    "    elif valor.startswith(\"ALMOXARIFADO\"):\n",
    "        return 5\n",
    "    elif valor.startswith(\"ASSESSORIA\"):\n",
    "        return 6\n",
    "    elif valor.startswith(\"ASSISTÊNCIA\"):\n",
    "        return 7\n",
    "    elif valor.startswith(\"BIBLIOTECA\"):\n",
    "        return 8\n",
    "    elif valor.startswith(\"PRÓ-REITORIA\"):\n",
    "        return 9\n",
    "    elif valor.startswith(\"HUOL\"):\n",
    "        return 10\n",
    "    else:\n",
    "        # Outros\n",
    "        return 11  \n",
    "\n",
    "# Aplicar a função à coluna \"unidade_requisitante\" e criar uma nova coluna com os valores substituídos\n",
    "df['unidade_requisitante'] = df['unidade_requisitante'].apply(categorize_request_unit)"
   ]
  },
  {
   "cell_type": "markdown",
   "id": "7919ba95-bace-42ba-9bb4-403274d747f6",
   "metadata": {},
   "source": [
    "As colunas convenio e almoxarifado são interessantes, mas são categóricas. Portanto, precisão ser tratadas. Abaixo uma função que facilita esse trabalho"
   ]
  },
  {
   "cell_type": "code",
   "execution_count": 83,
   "id": "73adffc6-b8c3-407b-b653-eb277b3045b2",
   "metadata": {},
   "outputs": [],
   "source": [
    "from sklearn.preprocessing import LabelEncoder\n",
    "\n",
    "def categorize(dataframe, column):\n",
    "    \"\"\"\n",
    "    Recebe um dataframe e a coluna com os dados categóricos que se quer rotular\n",
    "\n",
    "    Args:\n",
    "        dataframe (object DataFrame)\n",
    "        column (string)\n",
    "    \"\"\"\n",
    "    # Identificar categorias de column\n",
    "    data = {category for category in set(dataframe[column])} \n",
    "    \n",
    "    # Traduzir cada categoria para numeros\n",
    "    label_encoder = LabelEncoder()\n",
    "    \n",
    "    # Atualiza no dataframe\n",
    "    dataframe[column] = label_encoder.fit_transform(dataframe[column])\n",
    "    \n",
    "    # Obtenha as categorias originais e seus rótulos numéricos\n",
    "    categories = label_encoder.classes_\n",
    "    labels = label_encoder.transform(categories)\n",
    "\n",
    "    # Visualizar mapeamento\n",
    "    display(pd.DataFrame({'Categoria':categories, 'Rótulo Numérico': labels}))"
   ]
  },
  {
   "cell_type": "code",
   "execution_count": 84,
   "id": "fe4b574d-a547-45bd-98c2-f13e7e38c8bb",
   "metadata": {
    "scrolled": true
   },
   "outputs": [
    {
     "data": {
      "text/html": [
       "<div>\n",
       "<style scoped>\n",
       "    .dataframe tbody tr th:only-of-type {\n",
       "        vertical-align: middle;\n",
       "    }\n",
       "\n",
       "    .dataframe tbody tr th {\n",
       "        vertical-align: top;\n",
       "    }\n",
       "\n",
       "    .dataframe thead th {\n",
       "        text-align: right;\n",
       "    }\n",
       "</style>\n",
       "<table border=\"1\" class=\"dataframe\">\n",
       "  <thead>\n",
       "    <tr style=\"text-align: right;\">\n",
       "      <th></th>\n",
       "      <th>Categoria</th>\n",
       "      <th>Rótulo Numérico</th>\n",
       "    </tr>\n",
       "  </thead>\n",
       "  <tbody>\n",
       "    <tr>\n",
       "      <th>0</th>\n",
       "      <td>False</td>\n",
       "      <td>0</td>\n",
       "    </tr>\n",
       "    <tr>\n",
       "      <th>1</th>\n",
       "      <td>True</td>\n",
       "      <td>1</td>\n",
       "    </tr>\n",
       "  </tbody>\n",
       "</table>\n",
       "</div>"
      ],
      "text/plain": [
       "   Categoria  Rótulo Numérico\n",
       "0      False                0\n",
       "1       True                1"
      ]
     },
     "metadata": {},
     "output_type": "display_data"
    }
   ],
   "source": [
    "categorize(df, 'convenio')"
   ]
  },
  {
   "cell_type": "code",
   "execution_count": 85,
   "id": "b23fb71a-3491-4cb4-8d36-5b2323e604e7",
   "metadata": {},
   "outputs": [
    {
     "data": {
      "text/html": [
       "<div>\n",
       "<style scoped>\n",
       "    .dataframe tbody tr th:only-of-type {\n",
       "        vertical-align: middle;\n",
       "    }\n",
       "\n",
       "    .dataframe tbody tr th {\n",
       "        vertical-align: top;\n",
       "    }\n",
       "\n",
       "    .dataframe thead th {\n",
       "        text-align: right;\n",
       "    }\n",
       "</style>\n",
       "<table border=\"1\" class=\"dataframe\">\n",
       "  <thead>\n",
       "    <tr style=\"text-align: right;\">\n",
       "      <th></th>\n",
       "      <th>Categoria</th>\n",
       "      <th>Rótulo Numérico</th>\n",
       "    </tr>\n",
       "  </thead>\n",
       "  <tbody>\n",
       "    <tr>\n",
       "      <th>0</th>\n",
       "      <td>ALMOXARIFADO - CB</td>\n",
       "      <td>0</td>\n",
       "    </tr>\n",
       "    <tr>\n",
       "      <th>1</th>\n",
       "      <td>ALMOXARIFADO - CCET</td>\n",
       "      <td>1</td>\n",
       "    </tr>\n",
       "    <tr>\n",
       "      <th>2</th>\n",
       "      <td>ALMOXARIFADO - CCHLA</td>\n",
       "      <td>2</td>\n",
       "    </tr>\n",
       "    <tr>\n",
       "      <th>3</th>\n",
       "      <td>ALMOXARIFADO - CCHLA - PORTARIA 097/2014</td>\n",
       "      <td>3</td>\n",
       "    </tr>\n",
       "    <tr>\n",
       "      <th>4</th>\n",
       "      <td>ALMOXARIFADO - CCS</td>\n",
       "      <td>4</td>\n",
       "    </tr>\n",
       "    <tr>\n",
       "      <th>5</th>\n",
       "      <td>ALMOXARIFADO - CCSA</td>\n",
       "      <td>5</td>\n",
       "    </tr>\n",
       "    <tr>\n",
       "      <th>6</th>\n",
       "      <td>ALMOXARIFADO - CT</td>\n",
       "      <td>6</td>\n",
       "    </tr>\n",
       "    <tr>\n",
       "      <th>7</th>\n",
       "      <td>ALMOXARIFADO CENTRAL</td>\n",
       "      <td>7</td>\n",
       "    </tr>\n",
       "    <tr>\n",
       "      <th>8</th>\n",
       "      <td>ALMOXARIFADO DE MATERIAIS DE MANUTENÇÃO DE IMÓ...</td>\n",
       "      <td>8</td>\n",
       "    </tr>\n",
       "    <tr>\n",
       "      <th>9</th>\n",
       "      <td>ALMOXARIFADO HUAB</td>\n",
       "      <td>9</td>\n",
       "    </tr>\n",
       "    <tr>\n",
       "      <th>10</th>\n",
       "      <td>HOSPED - ALMOXARIFADO</td>\n",
       "      <td>10</td>\n",
       "    </tr>\n",
       "    <tr>\n",
       "      <th>11</th>\n",
       "      <td>HUOL - ALMOXARIFADO GERAL</td>\n",
       "      <td>11</td>\n",
       "    </tr>\n",
       "    <tr>\n",
       "      <th>12</th>\n",
       "      <td>MEJC - ALMOXARIFADO DE MEDICAMENTOS</td>\n",
       "      <td>12</td>\n",
       "    </tr>\n",
       "    <tr>\n",
       "      <th>13</th>\n",
       "      <td>NaN</td>\n",
       "      <td>13</td>\n",
       "    </tr>\n",
       "  </tbody>\n",
       "</table>\n",
       "</div>"
      ],
      "text/plain": [
       "                                            Categoria  Rótulo Numérico\n",
       "0                                   ALMOXARIFADO - CB                0\n",
       "1                                 ALMOXARIFADO - CCET                1\n",
       "2                                ALMOXARIFADO - CCHLA                2\n",
       "3            ALMOXARIFADO - CCHLA - PORTARIA 097/2014                3\n",
       "4                                  ALMOXARIFADO - CCS                4\n",
       "5                                 ALMOXARIFADO - CCSA                5\n",
       "6                                   ALMOXARIFADO - CT                6\n",
       "7                                ALMOXARIFADO CENTRAL                7\n",
       "8   ALMOXARIFADO DE MATERIAIS DE MANUTENÇÃO DE IMÓ...                8\n",
       "9                                   ALMOXARIFADO HUAB                9\n",
       "10                              HOSPED - ALMOXARIFADO               10\n",
       "11                          HUOL - ALMOXARIFADO GERAL               11\n",
       "12                MEJC - ALMOXARIFADO DE MEDICAMENTOS               12\n",
       "13                                                NaN               13"
      ]
     },
     "metadata": {},
     "output_type": "display_data"
    }
   ],
   "source": [
    "categorize(df, 'almoxarifado')"
   ]
  },
  {
   "cell_type": "markdown",
   "id": "5960e3eb-6528-4d55-a117-b9e1bffdf134",
   "metadata": {},
   "source": [
    "A coluna `valor` precisa ser transformada em valores decimais"
   ]
  },
  {
   "cell_type": "code",
   "execution_count": 86,
   "id": "c78ec7a8-90d3-443a-a563-21cfb418932d",
   "metadata": {},
   "outputs": [],
   "source": [
    "import re\n",
    "\n",
    "rgx_remove_prefix = r'R\\$|\\s'\n",
    "rgx_only_last_point = r'\\.(?=[^.]*\\.)'\n",
    "\n",
    "df.loc[:,'valor'] = df['valor'].apply(lambda value: re.sub(rgx_only_last_point, '', re.sub(rgx_remove_prefix, '', value).replace(',', '.')))\n",
    "df.loc[:,'valor'] = df['valor'].astype(float)"
   ]
  },
  {
   "cell_type": "markdown",
   "id": "d1cd4915-4fbe-4321-8494-fb3ef6817140",
   "metadata": {},
   "source": [
    "Verificar linhas que possuem valores NaN"
   ]
  },
  {
   "cell_type": "code",
   "execution_count": 87,
   "id": "7e46c085-5722-4277-93c1-0d5df5e4420d",
   "metadata": {},
   "outputs": [
    {
     "data": {
      "text/plain": [
       "unidade_requisitante    0\n",
       "convenio                0\n",
       "status                  0\n",
       "almoxarifado            0\n",
       "valor                   0\n",
       "dtype: int64"
      ]
     },
     "execution_count": 87,
     "metadata": {},
     "output_type": "execute_result"
    }
   ],
   "source": [
    "df.isna().sum()"
   ]
  },
  {
   "cell_type": "markdown",
   "id": "bdabcf6a-3249-4e51-ba23-34c16a807ef9",
   "metadata": {},
   "source": [
    "O proximo passo é categorizar as colunas dos valores baseando-se pelo box plot apresentado abaixo"
   ]
  },
  {
   "cell_type": "code",
   "execution_count": 88,
   "id": "6a18bd31-72bc-4237-bdb2-95c8f1e68d10",
   "metadata": {},
   "outputs": [
    {
     "name": "stderr",
     "output_type": "stream",
     "text": [
      "/tmp/ipykernel_512/3237064998.py:14: UserWarning: The palette list has more values (6) than needed (1), which may not be intended.\n",
      "  ax = sns.boxplot(data=df_copy[['valor']], palette=custom_palette)\n"
     ]
    },
    {
     "data": {
      "image/png": "[encoded data removed]",
      "text/plain": [
       "<Figure size 800x600 with 1 Axes>"
      ]
     },
     "metadata": {},
     "output_type": "display_data"
    }
   ],
   "source": [
    "import seaborn as sns\n",
    "import matplotlib.pyplot as plt\n",
    "\n",
    "# Filtrar os valores que estão dentro de um intervalo mais apropriado\n",
    "df_copy = df[df['valor'] < 5000]\n",
    "\n",
    "# Definir uma paleta de cores personalizada (opcional)\n",
    "custom_palette = sns.color_palette(\"Blues\")\n",
    "\n",
    "# Criar um boxplot com Seaborn\n",
    "plt.figure(figsize=(8, 6)) \n",
    "sns.set(style=\"whitegrid\")\n",
    "\n",
    "ax = sns.boxplot(data=df_copy[['valor']], palette=custom_palette)\n",
    "ax.set_title('Distribuição de Valores')\n",
    "ax.set_xlabel('Valor')\n",
    "\n",
    "# Adicione um grid de fundo mais claro\n",
    "ax.yaxis.grid(True, linestyle='--', alpha=0.7)\n",
    "\n",
    "# Remova a moldura superior e direita\n",
    "sns.despine()\n",
    "\n",
    "# Mostre o boxplot\n",
    "plt.show()"
   ]
  },
  {
   "cell_type": "code",
   "execution_count": 89,
   "id": "92318f68-924c-47eb-862b-937c208e9e68",
   "metadata": {},
   "outputs": [],
   "source": [
    "def categorize_value(value):\n",
    "    if value < 1000:\n",
    "        return 0\n",
    "    elif value >= 1000 and value <= 2000:\n",
    "        return 1\n",
    "    elif value > 2000 and value < 4000:\n",
    "        return 2\n",
    "    return 3\n",
    "\n",
    "df.loc[:,'valor'] = df['valor'].apply(categorize_value)"
   ]
  },
  {
   "cell_type": "markdown",
   "id": "92b588c8-5ffb-48e5-be25-be23e4bee1c7",
   "metadata": {},
   "source": [
    "Abaixo é possível ver quantas requisições foram negadas (status 0) e quantas foram aprovadas (status 1)"
   ]
  },
  {
   "cell_type": "code",
   "execution_count": 90,
   "id": "a5f6a5ff-4049-4383-a64b-439a1d1e64be",
   "metadata": {
    "scrolled": true
   },
   "outputs": [
    {
     "data": {
      "text/plain": [
       "status\n",
       "0    3374\n",
       "1     801\n",
       "Name: count, dtype: int64"
      ]
     },
     "execution_count": 90,
     "metadata": {},
     "output_type": "execute_result"
    }
   ],
   "source": [
    "df['status'].value_counts()"
   ]
  },
  {
   "cell_type": "code",
   "execution_count": 91,
   "id": "79dfd762-81bc-449a-bb9c-2536e74a6380",
   "metadata": {},
   "outputs": [
    {
     "data": {
      "text/html": [
       "<div>\n",
       "<style scoped>\n",
       "    .dataframe tbody tr th:only-of-type {\n",
       "        vertical-align: middle;\n",
       "    }\n",
       "\n",
       "    .dataframe tbody tr th {\n",
       "        vertical-align: top;\n",
       "    }\n",
       "\n",
       "    .dataframe thead th {\n",
       "        text-align: right;\n",
       "    }\n",
       "</style>\n",
       "<table border=\"1\" class=\"dataframe\">\n",
       "  <thead>\n",
       "    <tr style=\"text-align: right;\">\n",
       "      <th></th>\n",
       "      <th>unidade_requisitante</th>\n",
       "      <th>convenio</th>\n",
       "      <th>status</th>\n",
       "      <th>almoxarifado</th>\n",
       "      <th>valor</th>\n",
       "    </tr>\n",
       "  </thead>\n",
       "  <tbody>\n",
       "    <tr>\n",
       "      <th>5721</th>\n",
       "      <td>8</td>\n",
       "      <td>0</td>\n",
       "      <td>0</td>\n",
       "      <td>13</td>\n",
       "      <td>3</td>\n",
       "    </tr>\n",
       "    <tr>\n",
       "      <th>6270</th>\n",
       "      <td>11</td>\n",
       "      <td>0</td>\n",
       "      <td>0</td>\n",
       "      <td>13</td>\n",
       "      <td>3</td>\n",
       "    </tr>\n",
       "    <tr>\n",
       "      <th>6271</th>\n",
       "      <td>11</td>\n",
       "      <td>0</td>\n",
       "      <td>0</td>\n",
       "      <td>13</td>\n",
       "      <td>1</td>\n",
       "    </tr>\n",
       "    <tr>\n",
       "      <th>7146</th>\n",
       "      <td>3</td>\n",
       "      <td>0</td>\n",
       "      <td>0</td>\n",
       "      <td>13</td>\n",
       "      <td>1</td>\n",
       "    </tr>\n",
       "    <tr>\n",
       "      <th>7231</th>\n",
       "      <td>3</td>\n",
       "      <td>0</td>\n",
       "      <td>0</td>\n",
       "      <td>13</td>\n",
       "      <td>1</td>\n",
       "    </tr>\n",
       "    <tr>\n",
       "      <th>...</th>\n",
       "      <td>...</td>\n",
       "      <td>...</td>\n",
       "      <td>...</td>\n",
       "      <td>...</td>\n",
       "      <td>...</td>\n",
       "    </tr>\n",
       "    <tr>\n",
       "      <th>621628</th>\n",
       "      <td>11</td>\n",
       "      <td>0</td>\n",
       "      <td>0</td>\n",
       "      <td>13</td>\n",
       "      <td>3</td>\n",
       "    </tr>\n",
       "    <tr>\n",
       "      <th>622797</th>\n",
       "      <td>11</td>\n",
       "      <td>0</td>\n",
       "      <td>0</td>\n",
       "      <td>5</td>\n",
       "      <td>0</td>\n",
       "    </tr>\n",
       "    <tr>\n",
       "      <th>622907</th>\n",
       "      <td>1</td>\n",
       "      <td>0</td>\n",
       "      <td>0</td>\n",
       "      <td>8</td>\n",
       "      <td>0</td>\n",
       "    </tr>\n",
       "    <tr>\n",
       "      <th>623299</th>\n",
       "      <td>11</td>\n",
       "      <td>0</td>\n",
       "      <td>0</td>\n",
       "      <td>13</td>\n",
       "      <td>3</td>\n",
       "    </tr>\n",
       "    <tr>\n",
       "      <th>623459</th>\n",
       "      <td>11</td>\n",
       "      <td>0</td>\n",
       "      <td>0</td>\n",
       "      <td>13</td>\n",
       "      <td>3</td>\n",
       "    </tr>\n",
       "  </tbody>\n",
       "</table>\n",
       "<p>4175 rows × 5 columns</p>\n",
       "</div>"
      ],
      "text/plain": [
       "        unidade_requisitante  convenio  status  almoxarifado valor\n",
       "5721                       8         0       0            13     3\n",
       "6270                      11         0       0            13     3\n",
       "6271                      11         0       0            13     1\n",
       "7146                       3         0       0            13     1\n",
       "7231                       3         0       0            13     1\n",
       "...                      ...       ...     ...           ...   ...\n",
       "621628                    11         0       0            13     3\n",
       "622797                    11         0       0             5     0\n",
       "622907                     1         0       0             8     0\n",
       "623299                    11         0       0            13     3\n",
       "623459                    11         0       0            13     3\n",
       "\n",
       "[4175 rows x 5 columns]"
      ]
     },
     "execution_count": 91,
     "metadata": {},
     "output_type": "execute_result"
    }
   ],
   "source": [
    "df"
   ]
  },
  {
   "cell_type": "markdown",
   "id": "d6ffc6f3-723b-412b-bf7c-ca38e55de037",
   "metadata": {},
   "source": [
    "## Avaliação de classificador"
   ]
  },
  {
   "cell_type": "code",
   "execution_count": 92,
   "id": "6d4b06dd-9750-4b36-a41c-06715109793d",
   "metadata": {},
   "outputs": [],
   "source": [
    "from sklearn.model_selection import train_test_split\n",
    "from sklearn.metrics import ConfusionMatrixDisplay, confusion_matrix, accuracy_score, precision_score, recall_score\n",
    "from sklearn.metrics import roc_curve\n",
    "\n",
    "# Classe para avaliar as técnicas supervisionadas\n",
    "class AssessClassifier:\n",
    "    \"\"\"\n",
    "    Inicialização da avaliação do classificador\n",
    "\n",
    "    Parâmetros:\n",
    "        df    (DataFrame)      : dataframe onde se encontram os dados\n",
    "        clf   (sklearn object) : classificador\n",
    "        label (string)         : nome da coluna do rótulo no dataframe\n",
    "    \"\"\"\n",
    "    def __init__(self, df, clf, label):\n",
    "        # Armazena o dataframe e o classificador nas propriedades\n",
    "        self.df = df\n",
    "        self.clf = clf\n",
    "        \n",
    "        # Separando X (features) e y (label)\n",
    "        X = df.drop(label, axis=1)\n",
    "        y = df.status\n",
    "\n",
    "        # Divisao treino e test\n",
    "        self.X_train, self.X_test, self.y_train, self.y_test = train_test_split(X, y, test_size=0.20, random_state=0)\n",
    "\n",
    "    \"\"\"\n",
    "    Treinamento do classificador\n",
    "    \"\"\"\n",
    "    def train(self):\n",
    "        # Treinar classificador\n",
    "        self.clf = self.clf.fit(self.X_train, self.y_train)\n",
    "        # Verificar score com dados de treino\n",
    "        print('Score do treinamento: ', self.clf.score(self.X_train, self.y_train))\n",
    "\n",
    "    \"\"\"\n",
    "    Teste do classificador\n",
    "    \"\"\"\n",
    "    def test(self):\n",
    "        # Faça a predição\n",
    "        self.y_pred = self.clf.predict(self.X_test)\n",
    "\n",
    "    \"\"\"\n",
    "    Plotar matriz de confusão\n",
    "    \"\"\"\n",
    "    def get_cm(self):\n",
    "        return confusion_matrix(self.y_test,self.y_pred)\n",
    "\n",
    "    \"\"\"\n",
    "    Plotar curva ROC\n",
    "    \"\"\"\n",
    "    def get_roc(self):\n",
    "        y_prob = self.clf.predict_proba(self.X_test)[:, 1]\n",
    "        fpr, tpr, thresholds = roc_curve(self.y_test, y_prob)\n",
    "        return fpr, tpr\n",
    "\n",
    "    \"\"\"\n",
    "    Mostrar acurácia, precisão e sensibilidade do modelo\n",
    "    \"\"\"\n",
    "    def get_metrics(self):\n",
    "        accuracy = accuracy_score(self.y_test, self.y_pred)\n",
    "        precision = precision_score(self.y_test, self.y_pred)\n",
    "        recall = recall_score(self.y_test, self.y_pred)\n",
    "        return accuracy, precision, recall       "
   ]
  },
  {
   "cell_type": "markdown",
   "id": "981c6b6c-9fee-4d03-99cd-4c3c0b0b650c",
   "metadata": {},
   "source": [
    "## Técnicas supervisionadas"
   ]
  },
  {
   "cell_type": "markdown",
   "id": "89ffa511-2c62-4091-9aae-536fc81aee78",
   "metadata": {},
   "source": [
    "### Gradient Boosting"
   ]
  },
  {
   "cell_type": "code",
   "execution_count": 93,
   "id": "1d93a78a-efbb-489f-8f6f-76ea0340a051",
   "metadata": {},
   "outputs": [
    {
     "name": "stdout",
     "output_type": "stream",
     "text": [
      "Score do treinamento:  0.962874251497006\n"
     ]
    }
   ],
   "source": [
    "from sklearn.ensemble import HistGradientBoostingClassifier\n",
    "\n",
    "gb_clf = HistGradientBoostingClassifier(\n",
    "    # TODO ajustar parametros HistGradientBoosting\n",
    ")\n",
    "\n",
    "gb = AssessClassifier(df, gb_clf, 'status')\n",
    "gb.train()\n",
    "gb.test()"
   ]
  },
  {
   "cell_type": "markdown",
   "id": "2e0e68ec-9e5b-4ae4-8d44-9215d87244d8",
   "metadata": {},
   "source": [
    "### Floresta Aleatória"
   ]
  },
  {
   "cell_type": "code",
   "execution_count": 94,
   "id": "c2c1b675-db08-4028-8fe7-084c64f5d41a",
   "metadata": {},
   "outputs": [
    {
     "name": "stdout",
     "output_type": "stream",
     "text": [
      "Score do treinamento:  0.9646706586826347\n"
     ]
    }
   ],
   "source": [
    "from sklearn.ensemble import RandomForestClassifier\n",
    "\n",
    "rf_clf = RandomForestClassifier() # sem otimização de parâmetros\n",
    "\n",
    "rf = AssessClassifier(df, rf_clf, 'status')\n",
    "rf.train()\n",
    "rf.test()"
   ]
  },
  {
   "cell_type": "markdown",
   "id": "9723c973",
   "metadata": {},
   "source": [
    "#### Tentativa de aperfeiçoamento do modelo com Grid Search\n",
    "\n",
    "No processo de aprimoramento do modelo usando a técnica de Grid Search, exploramos a busca de combinações ideais de hiperparâmetros para nossa Floresta Aleatória. O Grid Search envolve a criação de um dicionário de parâmetros com diferentes valores possíveis, treinando o modelo para cada combinação. Embora seja uma abordagem poderosa, sua utilização é mais adequada quando temos um conjunto limitado de hiperparâmetros críticos a ajustar, visto que testar todas as combinações possíveis pode ser demorado, sendo importante ponderar o equilíbrio entre tempo e desempenho desejado."
   ]
  },
  {
   "cell_type": "code",
   "execution_count": 121,
   "id": "159ade2a",
   "metadata": {},
   "outputs": [
    {
     "name": "stdout",
     "output_type": "stream",
     "text": [
      "best_params_:  {'bootstrap': True, 'max_depth': 10, 'max_features': 2, 'min_samples_leaf': 3, 'min_samples_split': 8, 'n_estimators': 100}\n",
      "best_estimator_:  RandomForestClassifier(max_depth=10, max_features=2, min_samples_leaf=3,\n",
      "                       min_samples_split=8)\n",
      "Acurácia com Grid Search CV:  0.9607784431137724\n",
      "Diferenca entre acurácia com Grid Search e sem Grid Search:  -0.003892215568862323\n"
     ]
    }
   ],
   "source": [
    "from sklearn.model_selection import GridSearchCV # para otimização de parâmetros já com cross-validation\n",
    "\n",
    "params_grid = {\n",
    "  'bootstrap': [True], # se amostras são retiradas com reposição\n",
    "  'max_depth': [10, 25, 30], # profundidade máxima da árvore\n",
    "  'max_features': [2, 3], # número máximo de features consideradas para divisão\n",
    "  'min_samples_leaf': [3, 5], # número mínimo de amostras necessárias para estar em um nó folha\n",
    "  'min_samples_split': [8, 10, 12], # número mínimo de amostras necessárias para dividir um nó interno\n",
    "  'n_estimators': [100, 350] # número de árvores na floresta\n",
    "}\n",
    "\n",
    "forest_grid_search = GridSearchCV(\n",
    "  rf_clf, # classificador sem otimização de parâmetros\n",
    "  params_grid, # grid de parâmetros\n",
    "  cv=5, # número de folds\n",
    "  scoring='accuracy', # métrica de avaliação\n",
    "  return_train_score=True # retorna score para dados de treino\n",
    ")\n",
    "\n",
    "forest_grid_search.fit(rf.X_train, rf.y_train)\n",
    "\n",
    "print('best_params_: ', forest_grid_search.best_params_)\n",
    "print('best_estimator_: ', forest_grid_search.best_estimator_)\n",
    "print('Acurácia com Grid Search CV: ', forest_grid_search.best_score_)\n",
    "print('Diferenca entre acurácia com Grid Search e sem Grid Search: ', forest_grid_search.best_score_ - rf.clf.score(rf.X_train, rf.y_train))"
   ]
  },
  {
   "cell_type": "markdown",
   "id": "79ccc345",
   "metadata": {},
   "source": [
    "### Otimização Pseudo Aleatória com RandomizedSearchCV\n",
    "\n",
    "Aqui, exploraremos como a Otimização Pseudo Aleatória, usando a técnica RandomizedSearchCV, pode ser empregada para melhorar nossos modelos. Em vez de testar todas as combinações possíveis de hiperparâmetros, o RandomizedSearchCV realiza a busca em um subconjunto aleatório de combinações, tornando-a uma alternativa mais eficiente quando temos muitos parâmetros para sintonizar. Essa abordagem é útil quando a precisão do modelo é uma prioridade e o tempo de treinamento precisa ser controlado, uma vez que não explora todas as opções, mas busca resultados significativos em uma fração do tempo."
   ]
  },
  {
   "cell_type": "code",
   "execution_count": 120,
   "id": "f697aa14",
   "metadata": {},
   "outputs": [
    {
     "name": "stdout",
     "output_type": "stream",
     "text": [
      "Fitting 5 folds for each of 100 candidates, totalling 500 fits\n",
      "best_params_:  {'n_estimators': 200, 'min_samples_split': 2, 'min_samples_leaf': 2, 'max_features': 2, 'max_depth': 10, 'bootstrap': True}\n",
      "best_estimator_:  RandomForestClassifier(max_depth=10, max_features=2, min_samples_leaf=2,\n",
      "                       n_estimators=200)\n",
      "Acurácia com Randomized Search CV:  0.9622754491017964\n",
      "Diferenca entre acurácia com Randomized Search e sem Randomized Search:  -0.0023952095808382756\n"
     ]
    }
   ],
   "source": [
    "from sklearn.model_selection import RandomizedSearchCV # para otimização de parâmetros de forma aleatória já com cross-validation\n",
    "\n",
    "param_space = {\n",
    "  'bootstrap': [True], # se amostr, as são retiradas com reposição,\n",
    "  'max_depth': [6, 8, 10, 12, 14], # profundidade máxima da árvore\n",
    "  'max_features': [2, 3, 4, 5, 6, 7, 8, 9, 10], # número máximo de features consideradas para divisão\n",
    "  'min_samples_leaf': [2, 3, 4], # número mínimo de amostras necessárias para estar em um nó folha\n",
    "  'min_samples_split': [2, 3, 4, 5], # número mínimo de amostras necessárias para dividir um nó interno\n",
    "  'n_estimators': [100, 200, 300, 400, 500, 600, 700, 800, 900] # número de árvores na floresta\n",
    "}\n",
    "\n",
    "forest_random_search = RandomizedSearchCV(\n",
    "  rf_clf, # classificador sem otimização de parâmetros\n",
    "  param_space, # grid de parâmetros\n",
    "  n_iter=100, # número de iterações\n",
    "  scoring='accuracy', # métrica de avaliação\n",
    "  verbose=True, # exibe detalhes do processo\n",
    "  cv=5, # número de folds\n",
    "  n_jobs=-1, # número de jobs a serem executados em paralelo\n",
    "  return_train_score=True # retorna score para dados de treino\n",
    ")\n",
    "\n",
    "forest_random_search.fit(rf.X_train, rf.y_train)\n",
    "print('best_params_: ', forest_random_search.best_params_)\n",
    "print('best_estimator_: ', forest_random_search.best_estimator_)\n",
    "print('Acurácia com Randomized Search CV: ', forest_random_search.best_score_)\n",
    "print('Diferenca entre acurácia com Randomized Search e sem Randomized Search: ', forest_random_search.best_score_ - rf.clf.score(rf.X_train, rf.y_train))"
   ]
  },
  {
   "cell_type": "markdown",
   "id": "1041e80b-b5ee-477e-aa93-c136b7c8f933",
   "metadata": {},
   "source": [
    "### Comparações"
   ]
  },
  {
   "cell_type": "markdown",
   "id": "991a86b0-cb47-40d3-9f6c-08b4e8c03a8f",
   "metadata": {},
   "source": [
    "#### Métricas de acurácia, sensibilidade e precisão"
   ]
  },
  {
   "cell_type": "code",
   "execution_count": 95,
   "id": "bd481e8e-4024-4b92-909f-ab6562b989d0",
   "metadata": {},
   "outputs": [
    {
     "data": {
      "text/html": [
       "<div>\n",
       "<style scoped>\n",
       "    .dataframe tbody tr th:only-of-type {\n",
       "        vertical-align: middle;\n",
       "    }\n",
       "\n",
       "    .dataframe tbody tr th {\n",
       "        vertical-align: top;\n",
       "    }\n",
       "\n",
       "    .dataframe thead th {\n",
       "        text-align: right;\n",
       "    }\n",
       "</style>\n",
       "<table border=\"1\" class=\"dataframe\">\n",
       "  <thead>\n",
       "    <tr style=\"text-align: right;\">\n",
       "      <th></th>\n",
       "      <th>classifier</th>\n",
       "      <th>accuracy</th>\n",
       "      <th>precision</th>\n",
       "      <th>recall</th>\n",
       "    </tr>\n",
       "  </thead>\n",
       "  <tbody>\n",
       "    <tr>\n",
       "      <th>0</th>\n",
       "      <td>HistGradientBoostingClassifier</td>\n",
       "      <td>0.964072</td>\n",
       "      <td>0.910112</td>\n",
       "      <td>0.920455</td>\n",
       "    </tr>\n",
       "    <tr>\n",
       "      <th>1</th>\n",
       "      <td>RandomForestClassifier</td>\n",
       "      <td>0.966467</td>\n",
       "      <td>0.920455</td>\n",
       "      <td>0.920455</td>\n",
       "    </tr>\n",
       "  </tbody>\n",
       "</table>\n",
       "</div>"
      ],
      "text/plain": [
       "                       classifier  accuracy  precision    recall\n",
       "0  HistGradientBoostingClassifier  0.964072   0.910112  0.920455\n",
       "1          RandomForestClassifier  0.966467   0.920455  0.920455"
      ]
     },
     "execution_count": 95,
     "metadata": {},
     "output_type": "execute_result"
    }
   ],
   "source": [
    "rf_accuracy, rf_precision, rf_recall = rf.get_metrics()\n",
    "gb_accuracy, gb_precision, gb_recall = gb.get_metrics()\n",
    "\n",
    "metrics = dict()\n",
    "metrics['classifier'] = ['HistGradientBoostingClassifier', 'RandomForestClassifier']\n",
    "metrics['accuracy'] = [gb_accuracy, rf_accuracy]\n",
    "metrics['precision'] = [gb_precision, rf_precision]\n",
    "metrics['recall'] = [gb_recall, rf_recall]\n",
    "\n",
    "pd.DataFrame(metrics)"
   ]
  },
  {
   "cell_type": "markdown",
   "id": "7d6b7fd2-b1b0-45db-bb05-0e220328afa6",
   "metadata": {},
   "source": [
    "#### Matriz de confusão"
   ]
  },
  {
   "cell_type": "code",
   "execution_count": 96,
   "id": "258ae779-61e3-4f68-af5a-e7cc4ab04614",
   "metadata": {},
   "outputs": [
    {
     "data": {
      "image/png": "[encoded data removed]",
      "text/plain": [
       "<Figure size 1200x400 with 4 Axes>"
      ]
     },
     "metadata": {},
     "output_type": "display_data"
    }
   ],
   "source": [
    "cm1 = gb.get_cm()\n",
    "cm2 = rf.get_cm()\n",
    "\n",
    "fig, axes = plt.subplots(1, 2, figsize=(12, 4))\n",
    "\n",
    "sns.heatmap(cm1, annot=True, fmt=\"d\", ax=axes[0], cmap=\"Blues\", xticklabels=[\"Aceita\", \"Negada\"], yticklabels=[\"Aceita\", \"Negada\"])\n",
    "axes[0].set_title(\"Gradient Boosting Tree\")\n",
    "\n",
    "sns.heatmap(cm2, annot=True, fmt=\"d\", ax=axes[1], cmap=\"Blues\", xticklabels=[\"Aceita\", \"Negada\"], yticklabels=[\"Aceita\", \"Negada\"])\n",
    "axes[1].set_title(\"Floresta Aleatória\")\n",
    "\n",
    "plt.tight_layout()\n",
    "plt.show()"
   ]
  },
  {
   "cell_type": "markdown",
   "id": "e36d6269-a075-4249-8db2-1fc3970f8734",
   "metadata": {},
   "source": [
    "#### Curva ROC"
   ]
  },
  {
   "cell_type": "code",
   "execution_count": 97,
   "id": "38ed8a2e-17ca-4e98-b211-aca479d4e0e4",
   "metadata": {},
   "outputs": [
    {
     "data": {
      "image/png": "[encoded data removed]",
      "text/plain": [
       "<Figure size 1200x600 with 2 Axes>"
      ]
     },
     "metadata": {},
     "output_type": "display_data"
    }
   ],
   "source": [
    "plt.figure(figsize=(12, 6))\n",
    "\n",
    "plt.subplot(1, 2, 1)\n",
    "fpr_gb, tpr_gb = gb.get_roc()\n",
    "plt.plot(fpr_gb, tpr_gb, label='Curva ROC', color='blue')\n",
    "plt.plot([0, 1], [0, 1], 'k--', label='Linha de Referência')\n",
    "plt.xlim([0.0, 1.0])\n",
    "plt.ylim([0.0, 1.05])\n",
    "plt.xlabel('Taxa de Falsos Positivos (FPR)')\n",
    "plt.ylabel('Taxa de Verdadeiros Positivos (TPR)')\n",
    "plt.title('Gradient Boosting Tree')\n",
    "plt.legend(loc='lower right')\n",
    "\n",
    "plt.subplot(1, 2, 2) \n",
    "fpr_rf, tpr_rf = rf.get_roc()\n",
    "plt.plot(fpr_rf, tpr_rf, label='Curva ROC', color='blue')\n",
    "plt.plot([0, 1], [0, 1], 'k--', label='Linha de Referência')\n",
    "plt.xlim([0.0, 1.0])\n",
    "plt.ylim([0.0, 1.05])\n",
    "plt.xlabel('Taxa de Falsos Positivos (FPR)')\n",
    "plt.ylabel('Taxa de Verdadeiros Positivos (TPR)')\n",
    "plt.title('Floresta Aleatória')\n",
    "plt.legend(loc='lower right')\n",
    "\n",
    "plt.tight_layout()\n",
    "\n",
    "plt.show()            "
   ]
  },
  {
   "cell_type": "markdown",
   "id": "b132f02d-e196-4043-a8f1-3781a1e051f4",
   "metadata": {},
   "source": [
    "## Técnica não supervisionada"
   ]
  },
  {
   "cell_type": "markdown",
   "id": "156d3089-87a0-42c5-bb8e-f0147dbf9859",
   "metadata": {},
   "source": [
    "### K-Means"
   ]
  },
  {
   "cell_type": "code",
   "execution_count": 98,
   "id": "7ea3034d-e76c-41c2-80bb-c7cd2495c4dd",
   "metadata": {},
   "outputs": [
    {
     "data": {
      "image/png": "[encoded data removed]",
      "text/plain": [
       "<Figure size 640x480 with 1 Axes>"
      ]
     },
     "metadata": {},
     "output_type": "display_data"
    }
   ],
   "source": [
    "from sklearn.cluster import KMeans\n",
    "from sklearn.metrics import silhouette_score\n",
    "from sklearn.metrics import pairwise_distances_argmin_min\n",
    "from sklearn.preprocessing import MinMaxScaler\n",
    "\n",
    "# Colunas desejadas\n",
    "X = df[['almoxarifado', 'unidade_requisitante']]\n",
    "\n",
    "# Aplicar o algoritmo K-Means\n",
    "n_clusters = 5\n",
    "kmeans = KMeans(n_clusters=n_clusters,n_init=10)\n",
    "kmeans.fit(X)\n",
    "df['cluster'] = kmeans.labels_\n",
    "\n",
    "# Plotar os agrupamentos colorindo as linhas com base na coluna 'status'\n",
    "colors = {0: 'blue', 1: 'red'}\n",
    "df['color'] = df['status'].map(colors)\n",
    "plt.scatter(df['almoxarifado'], df['unidade_requisitante'], c=df['color'])\n",
    "plt.xlabel('Almoxarifado')\n",
    "plt.ylabel('Unidade Requisitante')\n",
    "plt.title('Agrupamento com K-Means')\n",
    "\n",
    "# Plotar os centroides\n",
    "centroids = kmeans.cluster_centers_\n",
    "plt.scatter(centroids[:, 0], centroids[:, 1], c='green', marker='x', s=20, label='Centroides')\n",
    "plt.legend()\n",
    "\n",
    "# Mostrar figura\n",
    "plt.show()"
   ]
  },
  {
   "cell_type": "markdown",
   "id": "27bf9e2e-8450-4549-bc4b-906b3b506e14",
   "metadata": {},
   "source": [
    "Os agrupamentos feitos pelo Kmeans retrata que há o almoxarifado 13 tende a aceitar boa parte das requisições a ele enviadas de várias unidades requisitantes, visto que observa-se um conjunto de pontos em azul alinhados verticalmente que representam requisições aceitas. No entanto, há um grupo maior de rejeições nos agrupamentos feitos mais à esquerda pelos almoxarifados de 4 a 8"
   ]
  },
  {
   "cell_type": "code",
   "execution_count": 99,
   "id": "5293ec34-410b-4832-b493-641008660943",
   "metadata": {},
   "outputs": [
    {
     "name": "stdout",
     "output_type": "stream",
     "text": [
      "Coeficiente de Silhueta: 0.8750736945704473\n",
      "Inércia do Modelo: 4689.637723418419\n"
     ]
    }
   ],
   "source": [
    "# Calcular coeficiente de silhueta e inercia\n",
    "silhouette_avg = silhouette_score(X, kmeans.labels_)\n",
    "inertia = kmeans.inertia_\n",
    "\n",
    "print(f\"Coeficiente de Silhueta: {silhouette_avg}\")\n",
    "print(f\"Inércia do Modelo: {inertia}\")"
   ]
  }
 ],
 "metadata": {
  "kernelspec": {
   "display_name": "Python 3 (ipykernel)",
   "language": "python",
   "name": "python3"
  },
  "language_info": {
   "codemirror_mode": {
    "name": "ipython",
    "version": 3
   },
   "file_extension": ".py",
   "mimetype": "text/x-python",
   "name": "python",
   "nbconvert_exporter": "python",
   "pygments_lexer": "ipython3",
   "version": "3.10.11"
  }
 },
 "nbformat": 4,
 "nbformat_minor": 5
}
