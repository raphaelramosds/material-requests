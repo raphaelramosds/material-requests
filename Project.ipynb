{
 "cells": [
  {
   "cell_type": "markdown",
   "id": "9c90c811-a5c9-4272-9c30-27816bcbb55b",
   "metadata": {},
   "source": [
    "# Status de Requições de Materiais\n",
    "\n",
    "## Dataset\n",
    "\n",
    "Unimos datasets das Requisições de Materiais no grupo de Materiais, dos Dados Abertos da UFRN, desde 1998"
   ]
  },
  {
   "cell_type": "code",
   "execution_count": 1247,
   "id": "42cd35b1-1fc0-4249-9978-dcc87bad3cd1",
   "metadata": {
    "scrolled": true
   },
   "outputs": [
    {
     "data": {
      "text/html": [
       "<div>\n",
       "<style scoped>\n",
       "    .dataframe tbody tr th:only-of-type {\n",
       "        vertical-align: middle;\n",
       "    }\n",
       "\n",
       "    .dataframe tbody tr th {\n",
       "        vertical-align: top;\n",
       "    }\n",
       "\n",
       "    .dataframe thead th {\n",
       "        text-align: right;\n",
       "    }\n",
       "</style>\n",
       "<table border=\"1\" class=\"dataframe\">\n",
       "  <thead>\n",
       "    <tr style=\"text-align: right;\">\n",
       "      <th></th>\n",
       "      <th>numero</th>\n",
       "      <th>ano</th>\n",
       "      <th>requisicao</th>\n",
       "      <th>data</th>\n",
       "      <th>id_unidade_requisitante</th>\n",
       "      <th>unidade_requisitante</th>\n",
       "      <th>id_unidade_custo</th>\n",
       "      <th>unidade_custo</th>\n",
       "      <th>observacoes</th>\n",
       "      <th>grupo_material</th>\n",
       "      <th>convenio</th>\n",
       "      <th>status</th>\n",
       "      <th>tipo_requisicao</th>\n",
       "      <th>almoxarifado</th>\n",
       "      <th>valor</th>\n",
       "    </tr>\n",
       "  </thead>\n",
       "  <tbody>\n",
       "    <tr>\n",
       "      <th>0</th>\n",
       "      <td>2469</td>\n",
       "      <td>1998</td>\n",
       "      <td>2469/1998</td>\n",
       "      <td>29/12/1998</td>\n",
       "      <td>283</td>\n",
       "      <td>EDITORA UNIVERSITÁRIA</td>\n",
       "      <td>283</td>\n",
       "      <td>EDITORA UNIVERSITÁRIA</td>\n",
       "      <td>NaN</td>\n",
       "      <td>GENEROS DE ALIMENTACAO</td>\n",
       "      <td>False</td>\n",
       "      <td>FINALIZADA</td>\n",
       "      <td>REQUISIÇÃO DE MATERIAL</td>\n",
       "      <td>ALMOXARIFADO CENTRAL</td>\n",
       "      <td>R$            13,80</td>\n",
       "    </tr>\n",
       "    <tr>\n",
       "      <th>1</th>\n",
       "      <td>2468</td>\n",
       "      <td>1998</td>\n",
       "      <td>2468/1998</td>\n",
       "      <td>29/12/1998</td>\n",
       "      <td>1463</td>\n",
       "      <td>RESIDENCIAS UNIVERSITÁRIAS</td>\n",
       "      <td>1463</td>\n",
       "      <td>RESIDENCIAS UNIVERSITÁRIAS</td>\n",
       "      <td>NaN</td>\n",
       "      <td>GAS ENGARRAFADO</td>\n",
       "      <td>False</td>\n",
       "      <td>FINALIZADA</td>\n",
       "      <td>REQUISIÇÃO DE MATERIAL</td>\n",
       "      <td>ALMOXARIFADO CENTRAL</td>\n",
       "      <td>R$            84,00</td>\n",
       "    </tr>\n",
       "    <tr>\n",
       "      <th>2</th>\n",
       "      <td>2470</td>\n",
       "      <td>1998</td>\n",
       "      <td>2470/1998</td>\n",
       "      <td>29/12/1998</td>\n",
       "      <td>253</td>\n",
       "      <td>NÚCLEO PERMANENTE DE CONCURSOS</td>\n",
       "      <td>253</td>\n",
       "      <td>NÚCLEO PERMANENTE DE CONCURSOS</td>\n",
       "      <td>NaN</td>\n",
       "      <td>GENEROS DE ALIMENTACAO</td>\n",
       "      <td>False</td>\n",
       "      <td>FINALIZADA</td>\n",
       "      <td>REQUISIÇÃO DE MATERIAL</td>\n",
       "      <td>ALMOXARIFADO CENTRAL</td>\n",
       "      <td>R$             4,60</td>\n",
       "    </tr>\n",
       "    <tr>\n",
       "      <th>3</th>\n",
       "      <td>2471</td>\n",
       "      <td>1998</td>\n",
       "      <td>2471/1998</td>\n",
       "      <td>29/12/1998</td>\n",
       "      <td>285</td>\n",
       "      <td>HOSPITAL UNIVERSITARIO ANA BEZERRA</td>\n",
       "      <td>285</td>\n",
       "      <td>HOSPITAL UNIVERSITARIO ANA BEZERRA</td>\n",
       "      <td>NaN</td>\n",
       "      <td>GENEROS DE ALIMENTACAO</td>\n",
       "      <td>False</td>\n",
       "      <td>FINALIZADA</td>\n",
       "      <td>REQUISIÇÃO DE MATERIAL</td>\n",
       "      <td>ALMOXARIFADO CENTRAL</td>\n",
       "      <td>R$            34,50</td>\n",
       "    </tr>\n",
       "    <tr>\n",
       "      <th>4</th>\n",
       "      <td>2460</td>\n",
       "      <td>1998</td>\n",
       "      <td>2460/1998</td>\n",
       "      <td>28/12/1998</td>\n",
       "      <td>1423</td>\n",
       "      <td>DIRETORIA DE LOGÍSTICA - PROAD</td>\n",
       "      <td>1423</td>\n",
       "      <td>DIRETORIA DE LOGÍSTICA - PROAD</td>\n",
       "      <td>NaN</td>\n",
       "      <td>MATERIAL DE LIMPEZA E PRODUTOS DE HIGIENIZACAO</td>\n",
       "      <td>False</td>\n",
       "      <td>FINALIZADA</td>\n",
       "      <td>REQUISIÇÃO DE MATERIAL</td>\n",
       "      <td>ALMOXARIFADO CENTRAL</td>\n",
       "      <td>R$            86,56</td>\n",
       "    </tr>\n",
       "  </tbody>\n",
       "</table>\n",
       "</div>"
      ],
      "text/plain": [
       "   numero   ano requisicao        data  id_unidade_requisitante  \\\n",
       "0    2469  1998  2469/1998  29/12/1998                      283   \n",
       "1    2468  1998  2468/1998  29/12/1998                     1463   \n",
       "2    2470  1998  2470/1998  29/12/1998                      253   \n",
       "3    2471  1998  2471/1998  29/12/1998                      285   \n",
       "4    2460  1998  2460/1998  28/12/1998                     1423   \n",
       "\n",
       "                 unidade_requisitante  id_unidade_custo  \\\n",
       "0               EDITORA UNIVERSITÁRIA               283   \n",
       "1          RESIDENCIAS UNIVERSITÁRIAS              1463   \n",
       "2      NÚCLEO PERMANENTE DE CONCURSOS               253   \n",
       "3  HOSPITAL UNIVERSITARIO ANA BEZERRA               285   \n",
       "4      DIRETORIA DE LOGÍSTICA - PROAD              1423   \n",
       "\n",
       "                        unidade_custo observacoes  \\\n",
       "0               EDITORA UNIVERSITÁRIA         NaN   \n",
       "1          RESIDENCIAS UNIVERSITÁRIAS         NaN   \n",
       "2      NÚCLEO PERMANENTE DE CONCURSOS         NaN   \n",
       "3  HOSPITAL UNIVERSITARIO ANA BEZERRA         NaN   \n",
       "4      DIRETORIA DE LOGÍSTICA - PROAD         NaN   \n",
       "\n",
       "                                   grupo_material  convenio      status  \\\n",
       "0                          GENEROS DE ALIMENTACAO     False  FINALIZADA   \n",
       "1                                 GAS ENGARRAFADO     False  FINALIZADA   \n",
       "2                          GENEROS DE ALIMENTACAO     False  FINALIZADA   \n",
       "3                          GENEROS DE ALIMENTACAO     False  FINALIZADA   \n",
       "4  MATERIAL DE LIMPEZA E PRODUTOS DE HIGIENIZACAO     False  FINALIZADA   \n",
       "\n",
       "          tipo_requisicao          almoxarifado                valor  \n",
       "0  REQUISIÇÃO DE MATERIAL  ALMOXARIFADO CENTRAL  R$            13,80  \n",
       "1  REQUISIÇÃO DE MATERIAL  ALMOXARIFADO CENTRAL  R$            84,00  \n",
       "2  REQUISIÇÃO DE MATERIAL  ALMOXARIFADO CENTRAL  R$             4,60  \n",
       "3  REQUISIÇÃO DE MATERIAL  ALMOXARIFADO CENTRAL  R$            34,50  \n",
       "4  REQUISIÇÃO DE MATERIAL  ALMOXARIFADO CENTRAL  R$            86,56  "
      ]
     },
     "execution_count": 1247,
     "metadata": {},
     "output_type": "execute_result"
    }
   ],
   "source": [
    "# Importa a biblioteca pandas com o alias 'pd'\n",
    "import pandas as pd\n",
    "\n",
    "# Lê um arquivo CSV como delimitador ;\n",
    "rm = pd.read_csv('data/all_data.csv', delimiter=',')\n",
    "\n",
    "# Exibe as primeiras linhas do DataFrame 'rm' para visualizar os dados\n",
    "rm.head()"
   ]
  },
  {
   "cell_type": "markdown",
   "id": "c7d64156-6f1d-4b92-b0cb-dbdf919cdcc6",
   "metadata": {},
   "source": [
    "## Contexto\n",
    "\n",
    "Quando uma unidade precisa de algum material, ela abre uma requisição para o almoxarifado. Nessa requisição, deve ter o preço estimado desse material e a unidade que vai custear esse material. Assim, o almoxarifado pode aprová-la e dar início a ordem de compra.\n",
    "\n",
    "## Ideia\n",
    "\n",
    "Neste dataset, queremos que, dada uma requisição, prever ele vai ser negada ou autorizada pelo almoxarifado. Além disso, investigar qual perfil das requisições que têm mais chances de serem aprovadas."
   ]
  },
  {
   "cell_type": "markdown",
   "id": "ae408ad6-5e48-4818-bf34-ba7600274602",
   "metadata": {
    "jp-MarkdownHeadingCollapsed": true
   },
   "source": [
    "## Preprocessamento\n",
    "\n",
    "Como esse dataset possui registros de devolução e requisições que envolvem serviços, vamos considerar apenas as requisições de material da instituição"
   ]
  },
  {
   "cell_type": "code",
   "execution_count": 1248,
   "id": "827f3079-2b6a-4c72-9a5a-41cbb72e4924",
   "metadata": {},
   "outputs": [],
   "source": [
    "df = rm[rm['tipo_requisicao'] == 'REQUISIÇÃO DE MATERIAL']"
   ]
  },
  {
   "cell_type": "markdown",
   "id": "6b21ed62-26bc-490b-874a-5486b03ac234",
   "metadata": {},
   "source": [
    "Algumas colunas em nada agregam ao nosso objetivo, portanto vamos retirá-las"
   ]
  },
  {
   "cell_type": "code",
   "execution_count": 1249,
   "id": "eb825c8e-5afa-4f76-853b-396dcfb0b783",
   "metadata": {},
   "outputs": [],
   "source": [
    "df = df.drop(['numero','ano','requisicao','data','observacoes','tipo_requisicao','id_unidade_custo','id_unidade_requisitante'], axis=1)"
   ]
  },
  {
   "cell_type": "markdown",
   "id": "cf613eea-69b2-4fbe-8c16-67bd55c11aca",
   "metadata": {},
   "source": [
    "A coluna status é multivalorada, mas apenas nos importa saber se a requisição foi negada ou não."
   ]
  },
  {
   "cell_type": "code",
   "execution_count": 1250,
   "id": "6d981764-8022-4984-8cb1-a62a134e8aad",
   "metadata": {},
   "outputs": [],
   "source": [
    "# Filtrar apenas requisições negadas, autorizadas e que tiveram a compra efetuada\n",
    "df = df[df['status'].isin(['NEGADA', 'AUTORIZADA', 'COMPRA', 'LIQUIDADA', 'EM_LIQUIDACAO'])]\n",
    "df['status'] = df['status'].apply(lambda x: 1 if x == 'NEGADA' else 0)"
   ]
  },
  {
   "cell_type": "code",
   "execution_count": 1251,
   "id": "efa4779b",
   "metadata": {},
   "outputs": [
    {
     "data": {
      "text/plain": [
       "unidade_custo\n",
       "GESTÃO DE CONTRATOS                                 182\n",
       "PROGRAMA DE PÓS-GRADUAÇÃO EM PATOLOGIA ORAL         140\n",
       "RESERVA TÉCNICA                                     130\n",
       "PROGRAMA DE PÓS-GRADUAÇÃO EM ENGENHARIA QUÍMICA     117\n",
       "CENTRO DE CIÊNCIAS DA SAÚDE                         114\n",
       "NUCLEO DE PESQUISA EM ALIMENTOS E MEDICAMENTOS      103\n",
       "PROGRAMA DE PÓS-GRADUAÇÃO EM BIOQUÍMICA              93\n",
       "PROGRAMA REUNI                                       87\n",
       "GASTOS COMUNS                                        82\n",
       "ESCOLA AGRÍCOLA DE JUNDIAÍ                           79\n",
       "PRÓ-REITORIA DE PÓS GRADUAÇÃO                        72\n",
       "SUPERINTENDENCIA DE COMUNICACAO                      67\n",
       "PRÓ-REITORIA DE ADMINISTRAÇÃO (PROAD)                63\n",
       "SUPERINTENDÊNCIA DE INFRAESTRUTURA                   62\n",
       "DMP - SECRETARIA ADMINISTRATIVA                      58\n",
       "SUSTENTAÇÃO DE ESTOQUE DO ALMOXARIFADO CENTRAL       57\n",
       "ESCOLA DE MÚSICA                                     54\n",
       "DEPARTAMENTO DE ENGENHARIA TÊXTIL                    51\n",
       "PROGRAMA DE PÓS-GRADUAÇÃO EM ENGENHARIA MECÂNICA     50\n",
       "GABINETE DO REITOR                                   49\n",
       "Name: count, dtype: int64"
      ]
     },
     "execution_count": 1251,
     "metadata": {},
     "output_type": "execute_result"
    }
   ],
   "source": [
    "cutoff = 20\n",
    "\n",
    "cost_units = df['unidade_custo'].value_counts()[:cutoff]\n",
    "cost_units"
   ]
  },
  {
   "cell_type": "code",
   "execution_count": 1252,
   "id": "4fdbe4ec",
   "metadata": {},
   "outputs": [
    {
     "data": {
      "text/plain": [
       "unidade_requisitante\n",
       "GESTÃO DE CONTRATOS                                                            169\n",
       "PROGRAMA DE PÓS-GRADUAÇÃO EM PATOLOGIA ORAL                                    145\n",
       "DIRETORIA DE MANUTENÇÃO DE INSTALAÇÕES FÍSICAS                                 135\n",
       "PROGRAMA DE PÓS-GRADUAÇÃO EM ENGENHARIA QUÍMICA                                109\n",
       "NUCLEO DE PESQUISA EM ALIMENTOS E MEDICAMENTOS                                 107\n",
       "DMP - SECRETARIA ADMINISTRATIVA                                                100\n",
       "PROGRAMA DE PÓS-GRADUAÇÃO EM BIOQUÍMICA                                         94\n",
       "ESCOLA AGRÍCOLA DE JUNDIAÍ                                                      85\n",
       "RESERVA TÉCNICA                                                                 67\n",
       "SUPERINTENDÊNCIA DE TECNOLOGIA DA INFORMAÇÃO                                    62\n",
       "SIN - GERÊNCIA DE ADMINISTRAÇÃO  GERAD                                         60\n",
       "SUPERINTENDENCIA DE COMUNICACAO                                                 60\n",
       "PROGRAMA DE PÓS-GRADUAÇÃO EM CIÊNCIAS FARMACÊUTICAS                             58\n",
       "DAS/PROGESP - DIRETORIA DE QUALIDADE DE VIDA, SAÚDE E SEGURANÇA NO TRABALHO     52\n",
       "ESCOLA DE MÚSICA                                                                52\n",
       "SUSTENTAÇÃO DE ESTOQUE DO ALMOXARIFADO CENTRAL                                  52\n",
       "BIBLIOTECA CENTRAL ZILA MAMEDE                                                  51\n",
       "SUPERINTENDÊNCIA DE INFRAESTRUTURA                                              51\n",
       "PROGRAMA DE PÓS-GRADUAÇÃO EM ENGENHARIA MECÂNICA                                50\n",
       "DEPARTAMENTO DE ENGENHARIA TÊXTIL                                               49\n",
       "Name: count, dtype: int64"
      ]
     },
     "execution_count": 1252,
     "metadata": {},
     "output_type": "execute_result"
    }
   ],
   "source": [
    "request_units = df['unidade_requisitante'].value_counts()[:cutoff]\n",
    "request_units"
   ]
  },
  {
   "cell_type": "code",
   "execution_count": 1253,
   "id": "889f567c",
   "metadata": {},
   "outputs": [
    {
     "data": {
      "text/plain": [
       "almoxarifado\n",
       "ALMOXARIFADO CENTRAL                                  445\n",
       "ALMOXARIFADO DE MATERIAIS DE MANUTENÇÃO DE IMÓVEIS    159\n",
       "ALMOXARIFADO - CCS                                     66\n",
       "ALMOXARIFADO - CT                                      37\n",
       "ALMOXARIFADO - CB                                      23\n",
       "ALMOXARIFADO - CCSA                                    20\n",
       "ALMOXARIFADO - CCHLA - PORTARIA 097/2014               20\n",
       "ALMOXARIFADO - CCET                                    12\n",
       "ALMOXARIFADO - CCHLA                                   12\n",
       "HUOL - ALMOXARIFADO GERAL                               2\n",
       "HOSPED - ALMOXARIFADO                                   1\n",
       "MEJC - ALMOXARIFADO DE MEDICAMENTOS                     1\n",
       "ALMOXARIFADO HUAB                                       1\n",
       "Name: count, dtype: int64"
      ]
     },
     "execution_count": 1253,
     "metadata": {},
     "output_type": "execute_result"
    }
   ],
   "source": [
    "almoxarifado = df['almoxarifado'].value_counts()\n",
    "almoxarifado"
   ]
  },
  {
   "cell_type": "code",
   "execution_count": 1254,
   "id": "9423223f",
   "metadata": {},
   "outputs": [
    {
     "data": {
      "text/plain": [
       "grupo_material\n",
       "MATERIAL QUIMICO                                           443\n",
       "MATERIAL DE EXPEDIENTE                                     274\n",
       "MATERIAL LABORATORIAL                                      221\n",
       "GENEROS DE ALIMENTACAO                                     209\n",
       "MOBILIARIO EM GERAL                                        201\n",
       "APARELHOS, EQUIP. E UTENS. MED., ODONT., LABOR. E HOSP.    157\n",
       "MATERIAL DE PROCESSAMENTO DE DADOS                         147\n",
       "MATERIAL PARA MANUTENCAO DE BENS IMOVEIS                   123\n",
       "VEICULOS DE TRACAO MECANICA                                115\n",
       "MATERIAL ELETRICO E ELETRÔNICO                             110\n",
       "MATERIAL PARA MANUTENCAO DE BENS MOVEIS                    105\n",
       "EQUIPAMENTOS DE PROCESSAMENTOS DE DADOS                    100\n",
       "EQUIPAMENTOS PARA AUDIO, VIDEO E FOTO                       97\n",
       "MATERIAL HOSPITALAR                                         94\n",
       "MATERIAL DE LIMPEZA E PRODUTOS DE HIGIENIZACAO              83\n",
       "MAQUINAS, UTENSILIOS E EQUIPAMENTOS DIVERSOS                80\n",
       "GAS ENGARRAFADO                                             70\n",
       "APARELHOS DE MEDICAO E ORIENTACAO                           66\n",
       "MATERIAL DE COPA E COZINHA                                  65\n",
       "COLECOES E MATERIAIS BIBLIOGRAFICOS                         57\n",
       "Name: count, dtype: int64"
      ]
     },
     "execution_count": 1254,
     "metadata": {},
     "output_type": "execute_result"
    }
   ],
   "source": [
    "material_group = df['grupo_material'].value_counts()[:cutoff]\n",
    "material_group"
   ]
  },
  {
   "cell_type": "markdown",
   "id": "7919ba95-bace-42ba-9bb4-403274d747f6",
   "metadata": {},
   "source": [
    "Categorização das colunas com base nos agrupamentos feitos anteriormente"
   ]
  },
  {
   "cell_type": "code",
   "execution_count": 1255,
   "id": "0430de15",
   "metadata": {},
   "outputs": [],
   "source": [
    "def categorize_almoxarifado(value):\n",
    "    if pd.isna(value):\n",
    "        return len(almoxarifado.index) + 1\n",
    "    for idx, category in enumerate(almoxarifado.index):\n",
    "        if value.startswith(category):\n",
    "            return idx\n",
    "    return len(almoxarifado.index)\n",
    "\n",
    "def categorize_cost_unit(value):\n",
    "    for idx, category in enumerate(cost_units.index):\n",
    "        if value.startswith(category):\n",
    "            return idx\n",
    "    return len(cost_units.index)\n",
    "\n",
    "def categorize_request_unit(value):\n",
    "    for idx, category in enumerate(request_units.index):\n",
    "        if value.startswith(category):\n",
    "            return idx\n",
    "    return len(request_units.index)\n",
    "\n",
    "def categorize_material_group(value):\n",
    "    if pd.isna(value):\n",
    "        return len(material_group.index) + 1\n",
    "    for idx, category in enumerate(material_group.index):\n",
    "        if value.startswith(category):\n",
    "            return idx\n",
    "    return len(material_group.index)\n",
    "\n",
    "def categorize_convenio(value):\n",
    "    return 1 if value else 0\n",
    "\n",
    "df['almoxarifado'] = df['almoxarifado'].apply(categorize_almoxarifado)\n",
    "df['unidade_custo'] = df['unidade_custo'].apply(categorize_cost_unit)\n",
    "df['unidade_requisitante'] = df['unidade_requisitante'].apply(categorize_request_unit)\n",
    "df['grupo_material'] = df['grupo_material'].apply(categorize_material_group)\n",
    "df['convenio'] = df['convenio'].apply(categorize_convenio)"
   ]
  },
  {
   "cell_type": "markdown",
   "id": "5960e3eb-6528-4d55-a117-b9e1bffdf134",
   "metadata": {},
   "source": [
    "A coluna dos valores das requisições precisa ser transformada em valores decimais e depois categorizada"
   ]
  },
  {
   "cell_type": "code",
   "execution_count": 1256,
   "id": "c78ec7a8-90d3-443a-a563-21cfb418932d",
   "metadata": {},
   "outputs": [],
   "source": [
    "import re\n",
    "\n",
    "rgx_remove_prefix = r'R\\$|\\s'\n",
    "rgx_only_last_point = r'\\.(?=[^.]*\\.)'\n",
    "\n",
    "df.loc[:,'valor'] = df['valor'].apply(lambda value: re.sub(rgx_only_last_point, '', re.sub(rgx_remove_prefix, '', value).replace(',', '.')))\n",
    "df.loc[:,'valor'] = df['valor'].astype(float)"
   ]
  },
  {
   "cell_type": "markdown",
   "id": "d1cd4915-4fbe-4321-8494-fb3ef6817140",
   "metadata": {},
   "source": [
    "Verificar linhas que possuem valores NaN"
   ]
  },
  {
   "cell_type": "code",
   "execution_count": 1257,
   "id": "7e46c085-5722-4277-93c1-0d5df5e4420d",
   "metadata": {
    "scrolled": true
   },
   "outputs": [
    {
     "data": {
      "text/plain": [
       "unidade_requisitante    0\n",
       "unidade_custo           0\n",
       "grupo_material          0\n",
       "convenio                0\n",
       "status                  0\n",
       "almoxarifado            0\n",
       "valor                   0\n",
       "dtype: int64"
      ]
     },
     "execution_count": 1257,
     "metadata": {},
     "output_type": "execute_result"
    }
   ],
   "source": [
    "df.isna().sum()"
   ]
  },
  {
   "cell_type": "markdown",
   "id": "92b588c8-5ffb-48e5-be25-be23e4bee1c7",
   "metadata": {},
   "source": [
    "Abaixo é possível ver quantas requisições foram negadas (status 0) e quantas foram aprovadas (status 1)"
   ]
  },
  {
   "cell_type": "code",
   "execution_count": 1258,
   "id": "a5f6a5ff-4049-4383-a64b-439a1d1e64be",
   "metadata": {
    "scrolled": true
   },
   "outputs": [
    {
     "data": {
      "text/plain": [
       "status\n",
       "0    3374\n",
       "1     801\n",
       "Name: count, dtype: int64"
      ]
     },
     "execution_count": 1258,
     "metadata": {},
     "output_type": "execute_result"
    }
   ],
   "source": [
    "df['status'].value_counts()"
   ]
  },
  {
   "cell_type": "code",
   "execution_count": 1259,
   "id": "01a40a20",
   "metadata": {},
   "outputs": [
    {
     "data": {
      "text/html": [
       "<div>\n",
       "<style scoped>\n",
       "    .dataframe tbody tr th:only-of-type {\n",
       "        vertical-align: middle;\n",
       "    }\n",
       "\n",
       "    .dataframe tbody tr th {\n",
       "        vertical-align: top;\n",
       "    }\n",
       "\n",
       "    .dataframe thead th {\n",
       "        text-align: right;\n",
       "    }\n",
       "</style>\n",
       "<table border=\"1\" class=\"dataframe\">\n",
       "  <thead>\n",
       "    <tr style=\"text-align: right;\">\n",
       "      <th></th>\n",
       "      <th>unidade_requisitante</th>\n",
       "      <th>unidade_custo</th>\n",
       "      <th>grupo_material</th>\n",
       "      <th>convenio</th>\n",
       "      <th>status</th>\n",
       "      <th>almoxarifado</th>\n",
       "      <th>valor</th>\n",
       "    </tr>\n",
       "  </thead>\n",
       "  <tbody>\n",
       "    <tr>\n",
       "      <th>39292</th>\n",
       "      <td>16</td>\n",
       "      <td>20</td>\n",
       "      <td>19</td>\n",
       "      <td>0</td>\n",
       "      <td>0</td>\n",
       "      <td>14</td>\n",
       "      <td>49330.04</td>\n",
       "    </tr>\n",
       "    <tr>\n",
       "      <th>39841</th>\n",
       "      <td>20</td>\n",
       "      <td>20</td>\n",
       "      <td>5</td>\n",
       "      <td>0</td>\n",
       "      <td>0</td>\n",
       "      <td>14</td>\n",
       "      <td>189355.0</td>\n",
       "    </tr>\n",
       "    <tr>\n",
       "      <th>39842</th>\n",
       "      <td>20</td>\n",
       "      <td>20</td>\n",
       "      <td>17</td>\n",
       "      <td>0</td>\n",
       "      <td>0</td>\n",
       "      <td>14</td>\n",
       "      <td>1000.0</td>\n",
       "    </tr>\n",
       "    <tr>\n",
       "      <th>40717</th>\n",
       "      <td>20</td>\n",
       "      <td>20</td>\n",
       "      <td>20</td>\n",
       "      <td>0</td>\n",
       "      <td>0</td>\n",
       "      <td>14</td>\n",
       "      <td>1194.06</td>\n",
       "    </tr>\n",
       "    <tr>\n",
       "      <th>40802</th>\n",
       "      <td>20</td>\n",
       "      <td>20</td>\n",
       "      <td>20</td>\n",
       "      <td>0</td>\n",
       "      <td>0</td>\n",
       "      <td>14</td>\n",
       "      <td>1232.22</td>\n",
       "    </tr>\n",
       "    <tr>\n",
       "      <th>...</th>\n",
       "      <td>...</td>\n",
       "      <td>...</td>\n",
       "      <td>...</td>\n",
       "      <td>...</td>\n",
       "      <td>...</td>\n",
       "      <td>...</td>\n",
       "      <td>...</td>\n",
       "    </tr>\n",
       "    <tr>\n",
       "      <th>620056</th>\n",
       "      <td>20</td>\n",
       "      <td>20</td>\n",
       "      <td>20</td>\n",
       "      <td>0</td>\n",
       "      <td>1</td>\n",
       "      <td>0</td>\n",
       "      <td>1053.44</td>\n",
       "    </tr>\n",
       "    <tr>\n",
       "      <th>621466</th>\n",
       "      <td>2</td>\n",
       "      <td>20</td>\n",
       "      <td>21</td>\n",
       "      <td>0</td>\n",
       "      <td>1</td>\n",
       "      <td>1</td>\n",
       "      <td>3695.13</td>\n",
       "    </tr>\n",
       "    <tr>\n",
       "      <th>621869</th>\n",
       "      <td>20</td>\n",
       "      <td>20</td>\n",
       "      <td>3</td>\n",
       "      <td>0</td>\n",
       "      <td>1</td>\n",
       "      <td>0</td>\n",
       "      <td>600.0</td>\n",
       "    </tr>\n",
       "    <tr>\n",
       "      <th>622018</th>\n",
       "      <td>20</td>\n",
       "      <td>20</td>\n",
       "      <td>20</td>\n",
       "      <td>0</td>\n",
       "      <td>1</td>\n",
       "      <td>0</td>\n",
       "      <td>20.0</td>\n",
       "    </tr>\n",
       "    <tr>\n",
       "      <th>623446</th>\n",
       "      <td>20</td>\n",
       "      <td>20</td>\n",
       "      <td>20</td>\n",
       "      <td>0</td>\n",
       "      <td>1</td>\n",
       "      <td>0</td>\n",
       "      <td>70.0</td>\n",
       "    </tr>\n",
       "  </tbody>\n",
       "</table>\n",
       "<p>4175 rows × 7 columns</p>\n",
       "</div>"
      ],
      "text/plain": [
       "        unidade_requisitante  unidade_custo  grupo_material  convenio  status  \\\n",
       "39292                     16             20              19         0       0   \n",
       "39841                     20             20               5         0       0   \n",
       "39842                     20             20              17         0       0   \n",
       "40717                     20             20              20         0       0   \n",
       "40802                     20             20              20         0       0   \n",
       "...                      ...            ...             ...       ...     ...   \n",
       "620056                    20             20              20         0       1   \n",
       "621466                     2             20              21         0       1   \n",
       "621869                    20             20               3         0       1   \n",
       "622018                    20             20              20         0       1   \n",
       "623446                    20             20              20         0       1   \n",
       "\n",
       "        almoxarifado     valor  \n",
       "39292             14  49330.04  \n",
       "39841             14  189355.0  \n",
       "39842             14    1000.0  \n",
       "40717             14   1194.06  \n",
       "40802             14   1232.22  \n",
       "...              ...       ...  \n",
       "620056             0   1053.44  \n",
       "621466             1   3695.13  \n",
       "621869             0     600.0  \n",
       "622018             0      20.0  \n",
       "623446             0      70.0  \n",
       "\n",
       "[4175 rows x 7 columns]"
      ]
     },
     "execution_count": 1259,
     "metadata": {},
     "output_type": "execute_result"
    }
   ],
   "source": [
    "df"
   ]
  },
  {
   "cell_type": "code",
   "execution_count": 1260,
   "id": "10d4c533",
   "metadata": {},
   "outputs": [
    {
     "name": "stdout",
     "output_type": "stream",
     "text": [
      "Número de linhas duplicadas: 245\n"
     ]
    }
   ],
   "source": [
    "duplicated_rows = df.duplicated()\n",
    "count_duplicates = duplicated_rows.sum()\n",
    "print(f'Número de linhas duplicadas: {count_duplicates}')"
   ]
  },
  {
   "cell_type": "markdown",
   "id": "d6ffc6f3-723b-412b-bf7c-ca38e55de037",
   "metadata": {},
   "source": [
    "## Avaliação de classificador"
   ]
  },
  {
   "cell_type": "code",
   "execution_count": 1261,
   "id": "6d4b06dd-9750-4b36-a41c-06715109793d",
   "metadata": {},
   "outputs": [],
   "source": [
    "import numpy as np\n",
    "\n",
    "from sklearn.model_selection import train_test_split\n",
    "from sklearn.metrics import confusion_matrix, accuracy_score, precision_score, recall_score\n",
    "from sklearn.metrics import roc_curve\n",
    "\n",
    "from sklearn.model_selection import GridSearchCV\n",
    "from sklearn.model_selection import RandomizedSearchCV\n",
    "from skopt import BayesSearchCV\n",
    "from skopt.space import Real, Categorical, Integer\n",
    "\n",
    "# Classe para avaliar as técnicas supervisionadas\n",
    "class AssessClassifier:\n",
    "    \"\"\"\n",
    "    Inicialização da avaliação do classificador\n",
    "\n",
    "    Parâmetros:\n",
    "        df    (DataFrame)      : dataframe onde se encontram os dados\n",
    "        clf   (sklearn object) : classificador\n",
    "        label (string)         : nome da coluna do rótulo no dataframe\n",
    "    \"\"\"\n",
    "    def __init__(self, df, clf, label):\n",
    "        # Armazena o dataframe e o classificador nas propriedades\n",
    "        self.df = df\n",
    "        self.clf = clf\n",
    "        \n",
    "        # Separando X (features) e y (label)\n",
    "        X = df.drop(label, axis=1)\n",
    "        y = df.status\n",
    "\n",
    "        # Divisao treino e test\n",
    "        self.X_train, self.X_test, self.y_train, self.y_test = train_test_split(X, y, test_size=0.20, random_state=0)\n",
    "\n",
    "    \"\"\"\n",
    "    Treinamento do classificador\n",
    "    \"\"\"\n",
    "    def train(self):\n",
    "        # Treinar classificador\n",
    "        self.clf = self.clf.fit(self.X_train, self.y_train)\n",
    "        # Verificar score com dados de treino\n",
    "        print('Score do treinamento: ', self.clf.score(self.X_train, self.y_train))\n",
    "\n",
    "    \"\"\"\n",
    "    Teste do classificador\n",
    "    \"\"\"\n",
    "    def test(self):\n",
    "        # Faça a predição\n",
    "        self.y_pred = self.clf.predict(self.X_test)\n",
    "\n",
    "    \"\"\"\n",
    "    Plotar matriz de confusão\n",
    "    \"\"\"\n",
    "    def get_cm(self):\n",
    "        return confusion_matrix(self.y_test,self.y_pred)\n",
    "\n",
    "    \"\"\"\n",
    "    Plotar curva ROC\n",
    "    \"\"\"\n",
    "    def get_roc(self):\n",
    "        y_prob = self.clf.predict_proba(self.X_test)[:, 1]\n",
    "        fpr, tpr, thresholds = roc_curve(self.y_test, y_prob)\n",
    "        return fpr, tpr\n",
    "\n",
    "    \"\"\"\n",
    "    Mostrar acurácia, precisão e sensibilidade do modelo\n",
    "    \"\"\"\n",
    "    def get_metrics(self):\n",
    "        accuracy = accuracy_score(self.y_test, self.y_pred)\n",
    "        precision = precision_score(self.y_test, self.y_pred)\n",
    "        recall = recall_score(self.y_test, self.y_pred)\n",
    "        return accuracy, precision, recall\n",
    "\n",
    "    \"\"\"\n",
    "    Refinar hiperparâmetros pela otimização pseudo aleatória\n",
    "    \"\"\"\n",
    "    def refine_rs(self, search_space):\n",
    "        rs = RandomizedSearchCV(\n",
    "            self.clf, \n",
    "            search_space, \n",
    "            n_iter=10, \n",
    "            scoring='accuracy', \n",
    "            verbose=True, cv=5,\n",
    "            n_jobs=-1, \n",
    "            return_train_score=True)\n",
    "        rs.fit(self.X_train, self.y_train)\n",
    "        \n",
    "        return rs.best_estimator_\n",
    "\n",
    "    \"\"\"\n",
    "    Refinar hiperparâmetros pela otimização por grid search\n",
    "    \"\"\"\n",
    "    def refine_gs(self, search_space):\n",
    "        gs = GridSearchCV(\n",
    "          self.clf,\n",
    "          search_space,\n",
    "          cv=5,\n",
    "          scoring='accuracy',\n",
    "          return_train_score=True)\n",
    "        gs.fit(rf.X_train, rf.y_train)\n",
    "        \n",
    "        return gs.best_estimator_\n",
    "        \n",
    "    \"\"\"\n",
    "    Refinar hiperparametros pela busca bayesiana\n",
    "    \"\"\"\n",
    "    def refine_bs(self, search_space):\n",
    "        bs = BayesSearchCV(\n",
    "            self.clf,\n",
    "            search_space, \n",
    "            n_iter = 10, \n",
    "            scoring = 'accuracy', \n",
    "            n_jobs = 1, cv = 5)\n",
    "        bs.fit(self.X_train, self.y_train)\n",
    "        \n",
    "        return bs.best_estimator_"
   ]
  },
  {
   "cell_type": "markdown",
   "id": "981c6b6c-9fee-4d03-99cd-4c3c0b0b650c",
   "metadata": {},
   "source": [
    "## Técnicas supervisionadas"
   ]
  },
  {
   "cell_type": "markdown",
   "id": "89ffa511-2c62-4091-9aae-536fc81aee78",
   "metadata": {},
   "source": [
    "### Gradient Boosting Tree"
   ]
  },
  {
   "cell_type": "code",
   "execution_count": 1262,
   "id": "1d93a78a-efbb-489f-8f6f-76ea0340a051",
   "metadata": {},
   "outputs": [
    {
     "name": "stdout",
     "output_type": "stream",
     "text": [
      "Score do treinamento:  0.9844311377245509\n"
     ]
    },
    {
     "data": {
      "text/plain": [
       "(0.9508982035928144, 0.8496732026143791, 0.8783783783783784)"
      ]
     },
     "execution_count": 1262,
     "metadata": {},
     "output_type": "execute_result"
    }
   ],
   "source": [
    "from sklearn.ensemble import HistGradientBoostingClassifier\n",
    "\n",
    "gb_clf = HistGradientBoostingClassifier()\n",
    "\n",
    "gb = AssessClassifier(df, gb_clf, 'status')\n",
    "gb.train()\n",
    "gb.test()\n",
    "\n",
    "gb.get_metrics()"
   ]
  },
  {
   "cell_type": "markdown",
   "id": "2e0e68ec-9e5b-4ae4-8d44-9215d87244d8",
   "metadata": {},
   "source": [
    "### Floresta Aleatória"
   ]
  },
  {
   "cell_type": "code",
   "execution_count": 1263,
   "id": "c2c1b675-db08-4028-8fe7-084c64f5d41a",
   "metadata": {},
   "outputs": [
    {
     "name": "stdout",
     "output_type": "stream",
     "text": [
      "Score do treinamento:  0.9970059880239521\n"
     ]
    },
    {
     "data": {
      "text/plain": [
       "(0.9556886227544911, 0.8675496688741722, 0.8851351351351351)"
      ]
     },
     "execution_count": 1263,
     "metadata": {},
     "output_type": "execute_result"
    }
   ],
   "source": [
    "from sklearn.ensemble import RandomForestClassifier\n",
    "\n",
    "rf_clf = RandomForestClassifier() \n",
    "\n",
    "rf = AssessClassifier(df, rf_clf, 'status')\n",
    "rf.train()\n",
    "rf.test()\n",
    "\n",
    "rf.get_metrics()"
   ]
  },
  {
   "cell_type": "markdown",
   "id": "9723c973",
   "metadata": {},
   "source": [
    "### Refino dos hiperparâmetros"
   ]
  },
  {
   "cell_type": "code",
   "execution_count": 1264,
   "id": "e272d51d-cda5-4404-84c1-482e2d91a285",
   "metadata": {},
   "outputs": [],
   "source": [
    "rf_search_space = {\n",
    "    'bootstrap': [True],              # Se amostras são retiradas com reposição\n",
    "    'max_depth': [10, 25, 30],        # Profundidade máxima da árvore\n",
    "    'max_features': [2, 3],           # Número máximo de features consideradas para divisão\n",
    "    'min_samples_leaf': [3, 5],       # Número mínimo de amostras necessárias para estar em um nó folha\n",
    "    'min_samples_split': [8, 10, 12], # Número mínimo de amostras necessárias para dividir um nó interno\n",
    "    'n_estimators': [100, 350]        # Número de árvores na floresta\n",
    "}\n",
    "\n",
    "gb_search_space = {\n",
    "    'learning_rate': [0.01, 0.1, 0.2, 0.3],     # Taxa de aprendizado\n",
    "    'max_iter': [100, 200, 300],                # Número máximo de iterações\n",
    "    'max_depth': [3, 4, 5, 6],                  # Profundidade máxima da árvore\n",
    "    'min_samples_leaf': [1, 2, 3, 4],           # Número mínimo de amostras em uma folha\n",
    "    'l2_regularization': [0.0, 0.1, 0.2, 0.3],  # Regularização L2\n",
    "    'max_bins': [155, 205, 255]                 # Número máximo de bins para histograma\n",
    "}"
   ]
  },
  {
   "cell_type": "markdown",
   "id": "79ccc345",
   "metadata": {},
   "source": [
    "#### Random Search\n",
    "\n",
    "Realiza a busca em um subconjunto aleatório de combinações, tornando-a uma alternativa mais eficiente quando temos muitos parâmetros para sintonizar. Essa abordagem é útil quando a precisão do modelo é uma prioridade e o tempo de treinamento precisa ser controlado, uma vez que não explora todas as opções, mas busca resultados significativos em uma fração do tempo."
   ]
  },
  {
   "cell_type": "code",
   "execution_count": 1265,
   "id": "ba4c5d0b-465d-4048-b176-6a41c288a589",
   "metadata": {},
   "outputs": [],
   "source": [
    "gb_rs = gb.refine_bs(gb_search_space)\n",
    "# rf_rs = rf.refine_bs(rf_search_space)"
   ]
  },
  {
   "cell_type": "code",
   "execution_count": 1266,
   "id": "c031b434-d3b9-4c42-a0ec-0eb79c8386b6",
   "metadata": {},
   "outputs": [
    {
     "data": {
      "text/html": [
       "<style>#sk-container-id-23 {color: black;}#sk-container-id-23 pre{padding: 0;}#sk-container-id-23 div.sk-toggleable {background-color: white;}#sk-container-id-23 label.sk-toggleable__label {cursor: pointer;display: block;width: 100%;margin-bottom: 0;padding: 0.3em;box-sizing: border-box;text-align: center;}#sk-container-id-23 label.sk-toggleable__label-arrow:before {content: \"▸\";float: left;margin-right: 0.25em;color: #696969;}#sk-container-id-23 label.sk-toggleable__label-arrow:hover:before {color: black;}#sk-container-id-23 div.sk-estimator:hover label.sk-toggleable__label-arrow:before {color: black;}#sk-container-id-23 div.sk-toggleable__content {max-height: 0;max-width: 0;overflow: hidden;text-align: left;background-color: #f0f8ff;}#sk-container-id-23 div.sk-toggleable__content pre {margin: 0.2em;color: black;border-radius: 0.25em;background-color: #f0f8ff;}#sk-container-id-23 input.sk-toggleable__control:checked~div.sk-toggleable__content {max-height: 200px;max-width: 100%;overflow: auto;}#sk-container-id-23 input.sk-toggleable__control:checked~label.sk-toggleable__label-arrow:before {content: \"▾\";}#sk-container-id-23 div.sk-estimator input.sk-toggleable__control:checked~label.sk-toggleable__label {background-color: #d4ebff;}#sk-container-id-23 div.sk-label input.sk-toggleable__control:checked~label.sk-toggleable__label {background-color: #d4ebff;}#sk-container-id-23 input.sk-hidden--visually {border: 0;clip: rect(1px 1px 1px 1px);clip: rect(1px, 1px, 1px, 1px);height: 1px;margin: -1px;overflow: hidden;padding: 0;position: absolute;width: 1px;}#sk-container-id-23 div.sk-estimator {font-family: monospace;background-color: #f0f8ff;border: 1px dotted black;border-radius: 0.25em;box-sizing: border-box;margin-bottom: 0.5em;}#sk-container-id-23 div.sk-estimator:hover {background-color: #d4ebff;}#sk-container-id-23 div.sk-parallel-item::after {content: \"\";width: 100%;border-bottom: 1px solid gray;flex-grow: 1;}#sk-container-id-23 div.sk-label:hover label.sk-toggleable__label {background-color: #d4ebff;}#sk-container-id-23 div.sk-serial::before {content: \"\";position: absolute;border-left: 1px solid gray;box-sizing: border-box;top: 0;bottom: 0;left: 50%;z-index: 0;}#sk-container-id-23 div.sk-serial {display: flex;flex-direction: column;align-items: center;background-color: white;padding-right: 0.2em;padding-left: 0.2em;position: relative;}#sk-container-id-23 div.sk-item {position: relative;z-index: 1;}#sk-container-id-23 div.sk-parallel {display: flex;align-items: stretch;justify-content: center;background-color: white;position: relative;}#sk-container-id-23 div.sk-item::before, #sk-container-id-23 div.sk-parallel-item::before {content: \"\";position: absolute;border-left: 1px solid gray;box-sizing: border-box;top: 0;bottom: 0;left: 50%;z-index: -1;}#sk-container-id-23 div.sk-parallel-item {display: flex;flex-direction: column;z-index: 1;position: relative;background-color: white;}#sk-container-id-23 div.sk-parallel-item:first-child::after {align-self: flex-end;width: 50%;}#sk-container-id-23 div.sk-parallel-item:last-child::after {align-self: flex-start;width: 50%;}#sk-container-id-23 div.sk-parallel-item:only-child::after {width: 0;}#sk-container-id-23 div.sk-dashed-wrapped {border: 1px dashed gray;margin: 0 0.4em 0.5em 0.4em;box-sizing: border-box;padding-bottom: 0.4em;background-color: white;}#sk-container-id-23 div.sk-label label {font-family: monospace;font-weight: bold;display: inline-block;line-height: 1.2em;}#sk-container-id-23 div.sk-label-container {text-align: center;}#sk-container-id-23 div.sk-container {/* jupyter's `normalize.less` sets `[hidden] { display: none; }` but bootstrap.min.css set `[hidden] { display: none !important; }` so we also need the `!important` here to be able to override the default hidden behavior on the sphinx rendered scikit-learn.org. See: https://github.com/scikit-learn/scikit-learn/issues/21755 */display: inline-block !important;position: relative;}#sk-container-id-23 div.sk-text-repr-fallback {display: none;}</style><div id=\"sk-container-id-23\" class=\"sk-top-container\"><div class=\"sk-text-repr-fallback\"><pre>HistGradientBoostingClassifier(learning_rate=0.01, max_bins=205, max_depth=4,\n",
       "                               max_iter=200, min_samples_leaf=3)</pre><b>In a Jupyter environment, please rerun this cell to show the HTML representation or trust the notebook. <br />On GitHub, the HTML representation is unable to render, please try loading this page with nbviewer.org.</b></div><div class=\"sk-container\" hidden><div class=\"sk-item\"><div class=\"sk-estimator sk-toggleable\"><input class=\"sk-toggleable__control sk-hidden--visually\" id=\"sk-estimator-id-23\" type=\"checkbox\" checked><label for=\"sk-estimator-id-23\" class=\"sk-toggleable__label sk-toggleable__label-arrow\">HistGradientBoostingClassifier</label><div class=\"sk-toggleable__content\"><pre>HistGradientBoostingClassifier(learning_rate=0.01, max_bins=205, max_depth=4,\n",
       "                               max_iter=200, min_samples_leaf=3)</pre></div></div></div></div></div>"
      ],
      "text/plain": [
       "HistGradientBoostingClassifier(learning_rate=0.01, max_bins=205, max_depth=4,\n",
       "                               max_iter=200, min_samples_leaf=3)"
      ]
     },
     "execution_count": 1266,
     "metadata": {},
     "output_type": "execute_result"
    }
   ],
   "source": [
    "gb_rs"
   ]
  },
  {
   "cell_type": "markdown",
   "id": "f151f453-c010-4ba8-a2c0-62ad59ba093a",
   "metadata": {},
   "source": [
    "### Atualização dos classificadores"
   ]
  },
  {
   "cell_type": "code",
   "execution_count": 1267,
   "id": "a85d2a2a-fdcc-43d9-bda0-8aa816ecd60a",
   "metadata": {},
   "outputs": [
    {
     "name": "stdout",
     "output_type": "stream",
     "text": [
      "Score do treinamento:  0.9667664670658682\n"
     ]
    },
    {
     "data": {
      "text/plain": [
       "(0.962874251497006, 0.8979591836734694, 0.8918918918918919)"
      ]
     },
     "execution_count": 1267,
     "metadata": {},
     "output_type": "execute_result"
    }
   ],
   "source": [
    "gb = AssessClassifier(df, gb_rs, 'status')\n",
    "gb.train()\n",
    "gb.test()\n",
    "\n",
    "gb.get_metrics()"
   ]
  },
  {
   "cell_type": "code",
   "execution_count": 1268,
   "id": "a3f4b594-f52a-46a7-80e5-32e27461d89d",
   "metadata": {},
   "outputs": [],
   "source": [
    "# rf = AssessClassifier(df, rf_rs,'status')\n",
    "# rf.train()\n",
    "# rf.test()"
   ]
  },
  {
   "cell_type": "markdown",
   "id": "1041e80b-b5ee-477e-aa93-c136b7c8f933",
   "metadata": {},
   "source": [
    "### Comparações"
   ]
  },
  {
   "cell_type": "markdown",
   "id": "991a86b0-cb47-40d3-9f6c-08b4e8c03a8f",
   "metadata": {},
   "source": [
    "#### Métricas de acurácia, sensibilidade e precisão"
   ]
  },
  {
   "cell_type": "code",
   "execution_count": 1269,
   "id": "bd481e8e-4024-4b92-909f-ab6562b989d0",
   "metadata": {},
   "outputs": [
    {
     "data": {
      "text/html": [
       "<div>\n",
       "<style scoped>\n",
       "    .dataframe tbody tr th:only-of-type {\n",
       "        vertical-align: middle;\n",
       "    }\n",
       "\n",
       "    .dataframe tbody tr th {\n",
       "        vertical-align: top;\n",
       "    }\n",
       "\n",
       "    .dataframe thead th {\n",
       "        text-align: right;\n",
       "    }\n",
       "</style>\n",
       "<table border=\"1\" class=\"dataframe\">\n",
       "  <thead>\n",
       "    <tr style=\"text-align: right;\">\n",
       "      <th></th>\n",
       "      <th>classifier</th>\n",
       "      <th>accuracy</th>\n",
       "      <th>precision</th>\n",
       "      <th>recall</th>\n",
       "    </tr>\n",
       "  </thead>\n",
       "  <tbody>\n",
       "    <tr>\n",
       "      <th>0</th>\n",
       "      <td>HistGradientBoostingClassifier</td>\n",
       "      <td>0.962874</td>\n",
       "      <td>0.897959</td>\n",
       "      <td>0.891892</td>\n",
       "    </tr>\n",
       "    <tr>\n",
       "      <th>1</th>\n",
       "      <td>RandomForestClassifier</td>\n",
       "      <td>0.955689</td>\n",
       "      <td>0.867550</td>\n",
       "      <td>0.885135</td>\n",
       "    </tr>\n",
       "  </tbody>\n",
       "</table>\n",
       "</div>"
      ],
      "text/plain": [
       "                       classifier  accuracy  precision    recall\n",
       "0  HistGradientBoostingClassifier  0.962874   0.897959  0.891892\n",
       "1          RandomForestClassifier  0.955689   0.867550  0.885135"
      ]
     },
     "execution_count": 1269,
     "metadata": {},
     "output_type": "execute_result"
    }
   ],
   "source": [
    "rf_accuracy, rf_precision, rf_recall = rf.get_metrics()\n",
    "gb_accuracy, gb_precision, gb_recall = gb.get_metrics()\n",
    "\n",
    "metrics = dict()\n",
    "metrics['classifier'] = ['HistGradientBoostingClassifier', 'RandomForestClassifier']\n",
    "metrics['accuracy'] = [gb_accuracy, rf_accuracy]\n",
    "metrics['precision'] = [gb_precision, rf_precision]\n",
    "metrics['recall'] = [gb_recall, rf_recall]\n",
    "\n",
    "pd.DataFrame(metrics)"
   ]
  },
  {
   "cell_type": "markdown",
   "id": "7d6b7fd2-b1b0-45db-bb05-0e220328afa6",
   "metadata": {},
   "source": [
    "#### Matriz de confusão"
   ]
  },
  {
   "cell_type": "code",
   "execution_count": 1270,
   "id": "258ae779-61e3-4f68-af5a-e7cc4ab04614",
   "metadata": {},
   "outputs": [
    {
     "data": {
      "image/png": "[encoded data removed]",
      "text/plain": [
       "<Figure size 1200x400 with 4 Axes>"
      ]
     },
     "metadata": {},
     "output_type": "display_data"
    }
   ],
   "source": [
    "gb_cm = gb.get_cm()\n",
    "rf_cm = rf.get_cm()\n",
    "\n",
    "fig, axes = plt.subplots(1, 2, figsize=(12, 4))\n",
    "\n",
    "sns.heatmap(gb_cm, annot=True, fmt=\"d\", ax=axes[0], cmap=\"Blues\", xticklabels=[\"Aceita\", \"Negada\"], yticklabels=[\"Aceita\", \"Negada\"])\n",
    "axes[0].set_title(\"Gradient Boosting Tree\")\n",
    "\n",
    "sns.heatmap(rf_cm, annot=True, fmt=\"d\", ax=axes[1], cmap=\"Blues\", xticklabels=[\"Aceita\", \"Negada\"], yticklabels=[\"Aceita\", \"Negada\"])\n",
    "axes[1].set_title(\"Floresta Aleatória\")\n",
    "\n",
    "plt.tight_layout()\n",
    "plt.show()"
   ]
  },
  {
   "cell_type": "markdown",
   "id": "e36d6269-a075-4249-8db2-1fc3970f8734",
   "metadata": {},
   "source": [
    "#### Curva ROC"
   ]
  },
  {
   "cell_type": "code",
   "execution_count": 1271,
   "id": "38ed8a2e-17ca-4e98-b211-aca479d4e0e4",
   "metadata": {},
   "outputs": [
    {
     "data": {
      "image/png": "[encoded data removed]",
      "text/plain": [
       "<Figure size 1200x600 with 2 Axes>"
      ]
     },
     "metadata": {},
     "output_type": "display_data"
    }
   ],
   "source": [
    "plt.figure(figsize=(12, 6))\n",
    "\n",
    "def plot_roc(title, object):\n",
    "    fpr, tpr = object.get_roc()\n",
    "    plt.plot(fpr, tpr, label='Curva ROC', color='blue')\n",
    "    plt.plot([0, 1], [0, 1], 'k--', label='Linha de Referência')\n",
    "    plt.xlim([0.0, 1.0])\n",
    "    plt.ylim([0.0, 1.05])\n",
    "    plt.xlabel('Taxa de Falsos Positivos (FPR)')\n",
    "    plt.ylabel('Taxa de Verdadeiros Positivos (TPR)')\n",
    "    plt.title(title)\n",
    "    plt.legend(loc='lower right')\n",
    "\n",
    "plt.subplot(1, 2, 1)\n",
    "plot_roc('Gradient Boosting Tree', gb)\n",
    "\n",
    "plt.subplot(1, 2, 2) \n",
    "plot_roc('Floresta Aleatória', rf)\n",
    "\n",
    "plt.tight_layout()\n",
    "\n",
    "plt.show()            "
   ]
  },
  {
   "cell_type": "markdown",
   "id": "818c45f5-5c7c-423d-bdd7-5b013eb8fca2",
   "metadata": {},
   "source": [
    "## Técnica não supervisionada\n",
    "\n",
    "Utilizou-se o SOM para identificar o agrupamento de requisições que foram aprovadas e que foram negadas"
   ]
  },
  {
   "cell_type": "code",
   "execution_count": 1272,
   "id": "28844d78",
   "metadata": {},
   "outputs": [
    {
     "data": {
      "text/html": [
       "<div>\n",
       "<style scoped>\n",
       "    .dataframe tbody tr th:only-of-type {\n",
       "        vertical-align: middle;\n",
       "    }\n",
       "\n",
       "    .dataframe tbody tr th {\n",
       "        vertical-align: top;\n",
       "    }\n",
       "\n",
       "    .dataframe thead th {\n",
       "        text-align: right;\n",
       "    }\n",
       "</style>\n",
       "<table border=\"1\" class=\"dataframe\">\n",
       "  <thead>\n",
       "    <tr style=\"text-align: right;\">\n",
       "      <th></th>\n",
       "      <th>unidade_requisitante</th>\n",
       "      <th>unidade_custo</th>\n",
       "      <th>grupo_material</th>\n",
       "      <th>convenio</th>\n",
       "      <th>status</th>\n",
       "      <th>almoxarifado</th>\n",
       "      <th>valor</th>\n",
       "    </tr>\n",
       "  </thead>\n",
       "  <tbody>\n",
       "    <tr>\n",
       "      <th>0</th>\n",
       "      <td>0.000324</td>\n",
       "      <td>0.000405</td>\n",
       "      <td>0.000385</td>\n",
       "      <td>0.0</td>\n",
       "      <td>0.000000</td>\n",
       "      <td>0.000284</td>\n",
       "      <td>1.000000</td>\n",
       "    </tr>\n",
       "    <tr>\n",
       "      <th>1</th>\n",
       "      <td>0.000106</td>\n",
       "      <td>0.000106</td>\n",
       "      <td>0.000026</td>\n",
       "      <td>0.0</td>\n",
       "      <td>0.000000</td>\n",
       "      <td>0.000074</td>\n",
       "      <td>1.000000</td>\n",
       "    </tr>\n",
       "    <tr>\n",
       "      <th>2</th>\n",
       "      <td>0.019987</td>\n",
       "      <td>0.019987</td>\n",
       "      <td>0.016989</td>\n",
       "      <td>0.0</td>\n",
       "      <td>0.000000</td>\n",
       "      <td>0.013991</td>\n",
       "      <td>0.999358</td>\n",
       "    </tr>\n",
       "    <tr>\n",
       "      <th>3</th>\n",
       "      <td>0.016741</td>\n",
       "      <td>0.016741</td>\n",
       "      <td>0.016741</td>\n",
       "      <td>0.0</td>\n",
       "      <td>0.000000</td>\n",
       "      <td>0.011719</td>\n",
       "      <td>0.999511</td>\n",
       "    </tr>\n",
       "    <tr>\n",
       "      <th>4</th>\n",
       "      <td>0.016223</td>\n",
       "      <td>0.016223</td>\n",
       "      <td>0.016223</td>\n",
       "      <td>0.0</td>\n",
       "      <td>0.000000</td>\n",
       "      <td>0.011356</td>\n",
       "      <td>0.999541</td>\n",
       "    </tr>\n",
       "    <tr>\n",
       "      <th>...</th>\n",
       "      <td>...</td>\n",
       "      <td>...</td>\n",
       "      <td>...</td>\n",
       "      <td>...</td>\n",
       "      <td>...</td>\n",
       "      <td>...</td>\n",
       "      <td>...</td>\n",
       "    </tr>\n",
       "    <tr>\n",
       "      <th>4170</th>\n",
       "      <td>0.018975</td>\n",
       "      <td>0.018975</td>\n",
       "      <td>0.018975</td>\n",
       "      <td>0.0</td>\n",
       "      <td>0.000949</td>\n",
       "      <td>0.000000</td>\n",
       "      <td>0.999459</td>\n",
       "    </tr>\n",
       "    <tr>\n",
       "      <th>4171</th>\n",
       "      <td>0.000541</td>\n",
       "      <td>0.005412</td>\n",
       "      <td>0.005683</td>\n",
       "      <td>0.0</td>\n",
       "      <td>0.000271</td>\n",
       "      <td>0.000271</td>\n",
       "      <td>0.999969</td>\n",
       "    </tr>\n",
       "    <tr>\n",
       "      <th>4172</th>\n",
       "      <td>0.033296</td>\n",
       "      <td>0.033296</td>\n",
       "      <td>0.004994</td>\n",
       "      <td>0.0</td>\n",
       "      <td>0.001665</td>\n",
       "      <td>0.000000</td>\n",
       "      <td>0.998877</td>\n",
       "    </tr>\n",
       "    <tr>\n",
       "      <th>4173</th>\n",
       "      <td>0.499844</td>\n",
       "      <td>0.499844</td>\n",
       "      <td>0.499844</td>\n",
       "      <td>0.0</td>\n",
       "      <td>0.024992</td>\n",
       "      <td>0.000000</td>\n",
       "      <td>0.499844</td>\n",
       "    </tr>\n",
       "    <tr>\n",
       "      <th>4174</th>\n",
       "      <td>0.256053</td>\n",
       "      <td>0.256053</td>\n",
       "      <td>0.256053</td>\n",
       "      <td>0.0</td>\n",
       "      <td>0.012803</td>\n",
       "      <td>0.000000</td>\n",
       "      <td>0.896185</td>\n",
       "    </tr>\n",
       "  </tbody>\n",
       "</table>\n",
       "<p>4175 rows × 7 columns</p>\n",
       "</div>"
      ],
      "text/plain": [
       "      unidade_requisitante  unidade_custo  grupo_material  convenio    status  \\\n",
       "0                 0.000324       0.000405        0.000385       0.0  0.000000   \n",
       "1                 0.000106       0.000106        0.000026       0.0  0.000000   \n",
       "2                 0.019987       0.019987        0.016989       0.0  0.000000   \n",
       "3                 0.016741       0.016741        0.016741       0.0  0.000000   \n",
       "4                 0.016223       0.016223        0.016223       0.0  0.000000   \n",
       "...                    ...            ...             ...       ...       ...   \n",
       "4170              0.018975       0.018975        0.018975       0.0  0.000949   \n",
       "4171              0.000541       0.005412        0.005683       0.0  0.000271   \n",
       "4172              0.033296       0.033296        0.004994       0.0  0.001665   \n",
       "4173              0.499844       0.499844        0.499844       0.0  0.024992   \n",
       "4174              0.256053       0.256053        0.256053       0.0  0.012803   \n",
       "\n",
       "      almoxarifado     valor  \n",
       "0         0.000284  1.000000  \n",
       "1         0.000074  1.000000  \n",
       "2         0.013991  0.999358  \n",
       "3         0.011719  0.999511  \n",
       "4         0.011356  0.999541  \n",
       "...            ...       ...  \n",
       "4170      0.000000  0.999459  \n",
       "4171      0.000271  0.999969  \n",
       "4172      0.000000  0.998877  \n",
       "4173      0.000000  0.499844  \n",
       "4174      0.000000  0.896185  \n",
       "\n",
       "[4175 rows x 7 columns]"
      ]
     },
     "execution_count": 1272,
     "metadata": {},
     "output_type": "execute_result"
    }
   ],
   "source": [
    "from sklearn import preprocessing\n",
    "\n",
    "# Normalização dos dados\n",
    "scaled_df = pd.DataFrame(preprocessing.normalize(df), columns=df.columns)\n",
    "\n",
    "scaled_df"
   ]
  },
  {
   "cell_type": "code",
   "execution_count": 1273,
   "id": "e24a3aab-7306-4491-8158-7790e359f642",
   "metadata": {},
   "outputs": [
    {
     "data": {
      "image/png": "[encoded data removed]",
      "text/plain": [
       "<Figure size 1000x500 with 2 Axes>"
      ]
     },
     "metadata": {},
     "output_type": "display_data"
    }
   ],
   "source": [
    "from minisom import MiniSom\n",
    "\n",
    "# Extrair apenas as features\n",
    "x = scaled_df.drop(columns = ['status'])\n",
    "data = np.array(x, dtype=np.float64)\n",
    "\n",
    "# Inicialize a rede SOM.\n",
    "som = MiniSom(10, 10, data.shape[1], sigma=1.5, learning_rate=0.5, neighborhood_function='gaussian', random_seed=0)\n",
    "\n",
    "# Inicialize os pesos da PCA.\n",
    "som.pca_weights_init(data)\n",
    "\n",
    "# Treine a rede SOM.\n",
    "som.train(data, 10000)\n",
    "\n",
    "# Crie a figura com dois subplots.\n",
    "fig, axs = plt.subplots(1, 2, figsize=(10, 5))\n",
    "\n",
    "associated_data = []\n",
    "\n",
    "# Calcular intensidade de cada neurônio vencedor\n",
    "def calc_intensity(w):\n",
    "    coords, counts = np.unique(w, return_counts=True, axis=0)\n",
    "    coord_x = coords[:, 0]\n",
    "    coord_y = coords[:, 1]\n",
    "    intensity = counts / counts.sum()\n",
    "    return coord_x, coord_y, intensity\n",
    "\n",
    "for idx, label in enumerate(df['status'].drop_duplicates()):\n",
    "    # Plote o mapa de distância.\n",
    "    axs[idx].set_title('Aceita' if label == 0 else 'Negada')\n",
    "    axs[idx].pcolor(som.distance_map().T, cmap='bone_r')\n",
    "    \n",
    "    # Encontre os vencedores (neurônios vencedores) para os dados com a classe label\n",
    "    w = [som.winner(d) for d in data[df['status'] == label]]\n",
    "\n",
    "    # Calcule as coordenadas e intensidade dos neurônios vencedores.\n",
    "    x_points, y_points, intensity = calc_intensity(w)\n",
    "    \n",
    "    # Faça o gráfico dos pontos no subplot.\n",
    "    for i in range(len(intensity)):\n",
    "        axs[idx].plot(x_points[i] + 0.5, y_points[i] + 0.5, \"o\", markerfacecolor='None', markeredgecolor=\"red\", markersize=10, markeredgewidth=20 * intensity[i])\n",
    "        \n",
    "# Exiba a figura.\n",
    "plt.show()"
   ]
  },
  {
   "cell_type": "code",
   "execution_count": 1274,
   "id": "63171247",
   "metadata": {},
   "outputs": [],
   "source": [
    "# Recuperar todos os neuronios vencedores\n",
    "w = [som.winner(d) for d in data]\n",
    "\n",
    "# Recuperar indices neuronios vencedores na posiçao 10 x 10\n",
    "winners = [idx for idx, coord in enumerate(w) if coord[0] == 9 and coord[1] == 9]\n",
    "\n",
    "# Filtrar linhas do dataset localizadas nesses indices que foram negadas\n",
    "df_winners = df.iloc[winners]\n",
    "df_winners_filtered = df_winners[df_winners['status'] == 0]"
   ]
  },
  {
   "cell_type": "code",
   "execution_count": 1296,
   "id": "225aa89e",
   "metadata": {},
   "outputs": [
    {
     "name": "stderr",
     "output_type": "stream",
     "text": [
      "C:\\Users\\rapha\\AppData\\Local\\Temp\\ipykernel_3904\\493817765.py:14: FutureWarning:\n",
      "\n",
      "\n",
      "\n",
      "`shade` is now deprecated in favor of `fill`; setting `fill=True`.\n",
      "This will become an error in seaborn v0.14.0; please update your code.\n",
      "\n",
      "\n"
     ]
    },
    {
     "data": {
      "image/png": "[encoded data removed]",
      "text/plain": [
       "<Figure size 1200x500 with 2 Axes>"
      ]
     },
     "metadata": {},
     "output_type": "display_data"
    }
   ],
   "source": [
    "# Plotar gráfico de densidade dos valores das requisições e das unidades requisitantes\n",
    "\n",
    "# Crie um subplot com 1 linha e 2 colunas\n",
    "plt.figure(figsize=(12, 5))\n",
    "plt.subplot(1, 2, 1)\n",
    "\n",
    "# Crie um gráfico de densidade de probabilidade para a coluna 'valor'\n",
    "df_values_below_cutoff = df_winners_filtered[df_winners_filtered['valor'] < 400000]\n",
    "sns.boxplot(x='valor', data=df_values_below_cutoff, color='white')\n",
    "plt.title('Boxplot de valor')\n",
    "\n",
    "plt.subplot(1, 2, 2)\n",
    "# Crie um gráfico de densidade de probabilidade para a coluna 'unidade_requisitante'\n",
    "sns.kdeplot(df_winners_filtered['unidade_requisitante'], shade=True)\n",
    "plt.title('PDF de unidade_requisitante')\n",
    "\n",
    "plt.tight_layout()\n",
    "\n",
    "# Exiba o gráfico\n",
    "plt.show()\n"
   ]
  },
  {
   "cell_type": "markdown",
   "id": "3098ed3f-a359-42ad-ab9f-0d84d6086c5a",
   "metadata": {},
   "source": [
    "### Erro topográfico\n",
    "\n",
    "O erro topológico avalia a capacidade do SOM de preservar a topologia e a organização espacial dos dados de entrada no mapa de neurônios. Baixos valores de erro topológico indicam que a estrutura relativa dos dados é bem preservada no SOM."
   ]
  },
  {
   "cell_type": "code",
   "execution_count": 1276,
   "id": "4a9bd6c0-45d9-42e0-80b0-1c81d381c5ad",
   "metadata": {
    "scrolled": true
   },
   "outputs": [
    {
     "data": {
      "text/plain": [
       "0.05125748502994012"
      ]
     },
     "execution_count": 1276,
     "metadata": {},
     "output_type": "execute_result"
    }
   ],
   "source": [
    "som.topographic_error(data)"
   ]
  },
  {
   "cell_type": "markdown",
   "id": "e5fe10c9-a1bf-4cb0-9ef1-1cfc7008ce8d",
   "metadata": {},
   "source": [
    "### Erro de quantização\n",
    "\n",
    "O erro de quantização mede o quão bem os neurônios no SOM representam os dados de entrada. Valores baixos indicam uma representação de alta qualidade, onde os neurônios correspondem de forma precisa aos padrões nos dados de entrada."
   ]
  },
  {
   "cell_type": "code",
   "execution_count": 1277,
   "id": "4ba21502-f4ed-40f8-851b-eb87d73466c5",
   "metadata": {},
   "outputs": [
    {
     "data": {
      "text/plain": [
       "0.022557073683911504"
      ]
     },
     "execution_count": 1277,
     "metadata": {},
     "output_type": "execute_result"
    }
   ],
   "source": [
    "som.quantization_error(data)"
   ]
  },
  {
   "cell_type": "markdown",
   "id": "797de1d5",
   "metadata": {},
   "source": [
    "Aplicação do KMeans"
   ]
  },
  {
   "cell_type": "code",
   "execution_count": 1278,
   "id": "d279a912",
   "metadata": {},
   "outputs": [
    {
     "data": {
      "application/vnd.plotly.v1+json": {
       "config": {
        "plotlyServerURL": "https://plot.ly"
       },
       "data": [
        {
         "mode": "lines+markers",
         "type": "scatter",
         "x": [
          1,
          2,
          3,
          4,
          5,
          6,
          7,
          8,
          9,
          10,
          11,
          12,
          13,
          14,
          15,
          16,
          17,
          18,
          19,
          20,
          21,
          22,
          23,
          24,
          25,
          26,
          27,
          28,
          29,
          30,
          31,
          32,
          33,
          34,
          35,
          36,
          37,
          38,
          39,
          40,
          41,
          42,
          43,
          44,
          45,
          46,
          47,
          48,
          49
         ],
         "y": [
          10519011,
          5264971,
          3180467.5,
          2246914.75,
          1839976.25,
          1572291.5,
          1228831.25,
          1052560.25,
          879808.375,
          805046.6875,
          727109.6875,
          677493.625,
          608379.75,
          571892.6875,
          520208.1875,
          499799.09375,
          453546.84375,
          411668.3125,
          389422.8125,
          358379.21875,
          360801.0625,
          337078.875,
          303643,
          273951.1875,
          263590.59375,
          248092,
          244770.625,
          224366.71875,
          214231.34375,
          207145.9375,
          197913,
          188815.78125,
          180973.609375,
          176828.53125,
          172838.25,
          168799.765625,
          162054.75,
          155698.25,
          152393.9375,
          143554.71875,
          139876.171875,
          136413.875,
          131150.5625,
          129493.5546875,
          126125.4375,
          121321.921875,
          115361.84375,
          112769,
          109598.40625
         ]
        }
       ],
       "layout": {
        "template": {
         "data": {
          "bar": [
           {
            "error_x": {
             "color": "#2a3f5f"
            },
            "error_y": {
             "color": "#2a3f5f"
            },
            "marker": {
             "line": {
              "color": "#E5ECF6",
              "width": 0.5
             },
             "pattern": {
              "fillmode": "overlay",
              "size": 10,
              "solidity": 0.2
             }
            },
            "type": "bar"
           }
          ],
          "barpolar": [
           {
            "marker": {
             "line": {
              "color": "#E5ECF6",
              "width": 0.5
             },
             "pattern": {
              "fillmode": "overlay",
              "size": 10,
              "solidity": 0.2
             }
            },
            "type": "barpolar"
           }
          ],
          "carpet": [
           {
            "aaxis": {
             "endlinecolor": "#2a3f5f",
             "gridcolor": "white",
             "linecolor": "white",
             "minorgridcolor": "white",
             "startlinecolor": "#2a3f5f"
            },
            "baxis": {
             "endlinecolor": "#2a3f5f",
             "gridcolor": "white",
             "linecolor": "white",
             "minorgridcolor": "white",
             "startlinecolor": "#2a3f5f"
            },
            "type": "carpet"
           }
          ],
          "choropleth": [
           {
            "colorbar": {
             "outlinewidth": 0,
             "ticks": ""
            },
            "type": "choropleth"
           }
          ],
          "contour": [
           {
            "colorbar": {
             "outlinewidth": 0,
             "ticks": ""
            },
            "colorscale": [
             [
              0,
              "#0d0887"
             ],
             [
              0.1111111111111111,
              "#46039f"
             ],
             [
              0.2222222222222222,
              "#7201a8"
             ],
             [
              0.3333333333333333,
              "#9c179e"
             ],
             [
              0.4444444444444444,
              "#bd3786"
             ],
             [
              0.5555555555555556,
              "#d8576b"
             ],
             [
              0.6666666666666666,
              "#ed7953"
             ],
             [
              0.7777777777777778,
              "#fb9f3a"
             ],
             [
              0.8888888888888888,
              "#fdca26"
             ],
             [
              1,
              "#f0f921"
             ]
            ],
            "type": "contour"
           }
          ],
          "contourcarpet": [
           {
            "colorbar": {
             "outlinewidth": 0,
             "ticks": ""
            },
            "type": "contourcarpet"
           }
          ],
          "heatmap": [
           {
            "colorbar": {
             "outlinewidth": 0,
             "ticks": ""
            },
            "colorscale": [
             [
              0,
              "#0d0887"
             ],
             [
              0.1111111111111111,
              "#46039f"
             ],
             [
              0.2222222222222222,
              "#7201a8"
             ],
             [
              0.3333333333333333,
              "#9c179e"
             ],
             [
              0.4444444444444444,
              "#bd3786"
             ],
             [
              0.5555555555555556,
              "#d8576b"
             ],
             [
              0.6666666666666666,
              "#ed7953"
             ],
             [
              0.7777777777777778,
              "#fb9f3a"
             ],
             [
              0.8888888888888888,
              "#fdca26"
             ],
             [
              1,
              "#f0f921"
             ]
            ],
            "type": "heatmap"
           }
          ],
          "heatmapgl": [
           {
            "colorbar": {
             "outlinewidth": 0,
             "ticks": ""
            },
            "colorscale": [
             [
              0,
              "#0d0887"
             ],
             [
              0.1111111111111111,
              "#46039f"
             ],
             [
              0.2222222222222222,
              "#7201a8"
             ],
             [
              0.3333333333333333,
              "#9c179e"
             ],
             [
              0.4444444444444444,
              "#bd3786"
             ],
             [
              0.5555555555555556,
              "#d8576b"
             ],
             [
              0.6666666666666666,
              "#ed7953"
             ],
             [
              0.7777777777777778,
              "#fb9f3a"
             ],
             [
              0.8888888888888888,
              "#fdca26"
             ],
             [
              1,
              "#f0f921"
             ]
            ],
            "type": "heatmapgl"
           }
          ],
          "histogram": [
           {
            "marker": {
             "pattern": {
              "fillmode": "overlay",
              "size": 10,
              "solidity": 0.2
             }
            },
            "type": "histogram"
           }
          ],
          "histogram2d": [
           {
            "colorbar": {
             "outlinewidth": 0,
             "ticks": ""
            },
            "colorscale": [
             [
              0,
              "#0d0887"
             ],
             [
              0.1111111111111111,
              "#46039f"
             ],
             [
              0.2222222222222222,
              "#7201a8"
             ],
             [
              0.3333333333333333,
              "#9c179e"
             ],
             [
              0.4444444444444444,
              "#bd3786"
             ],
             [
              0.5555555555555556,
              "#d8576b"
             ],
             [
              0.6666666666666666,
              "#ed7953"
             ],
             [
              0.7777777777777778,
              "#fb9f3a"
             ],
             [
              0.8888888888888888,
              "#fdca26"
             ],
             [
              1,
              "#f0f921"
             ]
            ],
            "type": "histogram2d"
           }
          ],
          "histogram2dcontour": [
           {
            "colorbar": {
             "outlinewidth": 0,
             "ticks": ""
            },
            "colorscale": [
             [
              0,
              "#0d0887"
             ],
             [
              0.1111111111111111,
              "#46039f"
             ],
             [
              0.2222222222222222,
              "#7201a8"
             ],
             [
              0.3333333333333333,
              "#9c179e"
             ],
             [
              0.4444444444444444,
              "#bd3786"
             ],
             [
              0.5555555555555556,
              "#d8576b"
             ],
             [
              0.6666666666666666,
              "#ed7953"
             ],
             [
              0.7777777777777778,
              "#fb9f3a"
             ],
             [
              0.8888888888888888,
              "#fdca26"
             ],
             [
              1,
              "#f0f921"
             ]
            ],
            "type": "histogram2dcontour"
           }
          ],
          "mesh3d": [
           {
            "colorbar": {
             "outlinewidth": 0,
             "ticks": ""
            },
            "type": "mesh3d"
           }
          ],
          "parcoords": [
           {
            "line": {
             "colorbar": {
              "outlinewidth": 0,
              "ticks": ""
             }
            },
            "type": "parcoords"
           }
          ],
          "pie": [
           {
            "automargin": true,
            "type": "pie"
           }
          ],
          "scatter": [
           {
            "fillpattern": {
             "fillmode": "overlay",
             "size": 10,
             "solidity": 0.2
            },
            "type": "scatter"
           }
          ],
          "scatter3d": [
           {
            "line": {
             "colorbar": {
              "outlinewidth": 0,
              "ticks": ""
             }
            },
            "marker": {
             "colorbar": {
              "outlinewidth": 0,
              "ticks": ""
             }
            },
            "type": "scatter3d"
           }
          ],
          "scattercarpet": [
           {
            "marker": {
             "colorbar": {
              "outlinewidth": 0,
              "ticks": ""
             }
            },
            "type": "scattercarpet"
           }
          ],
          "scattergeo": [
           {
            "marker": {
             "colorbar": {
              "outlinewidth": 0,
              "ticks": ""
             }
            },
            "type": "scattergeo"
           }
          ],
          "scattergl": [
           {
            "marker": {
             "colorbar": {
              "outlinewidth": 0,
              "ticks": ""
             }
            },
            "type": "scattergl"
           }
          ],
          "scattermapbox": [
           {
            "marker": {
             "colorbar": {
              "outlinewidth": 0,
              "ticks": ""
             }
            },
            "type": "scattermapbox"
           }
          ],
          "scatterpolar": [
           {
            "marker": {
             "colorbar": {
              "outlinewidth": 0,
              "ticks": ""
             }
            },
            "type": "scatterpolar"
           }
          ],
          "scatterpolargl": [
           {
            "marker": {
             "colorbar": {
              "outlinewidth": 0,
              "ticks": ""
             }
            },
            "type": "scatterpolargl"
           }
          ],
          "scatterternary": [
           {
            "marker": {
             "colorbar": {
              "outlinewidth": 0,
              "ticks": ""
             }
            },
            "type": "scatterternary"
           }
          ],
          "surface": [
           {
            "colorbar": {
             "outlinewidth": 0,
             "ticks": ""
            },
            "colorscale": [
             [
              0,
              "#0d0887"
             ],
             [
              0.1111111111111111,
              "#46039f"
             ],
             [
              0.2222222222222222,
              "#7201a8"
             ],
             [
              0.3333333333333333,
              "#9c179e"
             ],
             [
              0.4444444444444444,
              "#bd3786"
             ],
             [
              0.5555555555555556,
              "#d8576b"
             ],
             [
              0.6666666666666666,
              "#ed7953"
             ],
             [
              0.7777777777777778,
              "#fb9f3a"
             ],
             [
              0.8888888888888888,
              "#fdca26"
             ],
             [
              1,
              "#f0f921"
             ]
            ],
            "type": "surface"
           }
          ],
          "table": [
           {
            "cells": {
             "fill": {
              "color": "#EBF0F8"
             },
             "line": {
              "color": "white"
             }
            },
            "header": {
             "fill": {
              "color": "#C8D4E3"
             },
             "line": {
              "color": "white"
             }
            },
            "type": "table"
           }
          ]
         },
         "layout": {
          "annotationdefaults": {
           "arrowcolor": "#2a3f5f",
           "arrowhead": 0,
           "arrowwidth": 1
          },
          "autotypenumbers": "strict",
          "coloraxis": {
           "colorbar": {
            "outlinewidth": 0,
            "ticks": ""
           }
          },
          "colorscale": {
           "diverging": [
            [
             0,
             "#8e0152"
            ],
            [
             0.1,
             "#c51b7d"
            ],
            [
             0.2,
             "#de77ae"
            ],
            [
             0.3,
             "#f1b6da"
            ],
            [
             0.4,
             "#fde0ef"
            ],
            [
             0.5,
             "#f7f7f7"
            ],
            [
             0.6,
             "#e6f5d0"
            ],
            [
             0.7,
             "#b8e186"
            ],
            [
             0.8,
             "#7fbc41"
            ],
            [
             0.9,
             "#4d9221"
            ],
            [
             1,
             "#276419"
            ]
           ],
           "sequential": [
            [
             0,
             "#0d0887"
            ],
            [
             0.1111111111111111,
             "#46039f"
            ],
            [
             0.2222222222222222,
             "#7201a8"
            ],
            [
             0.3333333333333333,
             "#9c179e"
            ],
            [
             0.4444444444444444,
             "#bd3786"
            ],
            [
             0.5555555555555556,
             "#d8576b"
            ],
            [
             0.6666666666666666,
             "#ed7953"
            ],
            [
             0.7777777777777778,
             "#fb9f3a"
            ],
            [
             0.8888888888888888,
             "#fdca26"
            ],
            [
             1,
             "#f0f921"
            ]
           ],
           "sequentialminus": [
            [
             0,
             "#0d0887"
            ],
            [
             0.1111111111111111,
             "#46039f"
            ],
            [
             0.2222222222222222,
             "#7201a8"
            ],
            [
             0.3333333333333333,
             "#9c179e"
            ],
            [
             0.4444444444444444,
             "#bd3786"
            ],
            [
             0.5555555555555556,
             "#d8576b"
            ],
            [
             0.6666666666666666,
             "#ed7953"
            ],
            [
             0.7777777777777778,
             "#fb9f3a"
            ],
            [
             0.8888888888888888,
             "#fdca26"
            ],
            [
             1,
             "#f0f921"
            ]
           ]
          },
          "colorway": [
           "#636efa",
           "#EF553B",
           "#00cc96",
           "#ab63fa",
           "#FFA15A",
           "#19d3f3",
           "#FF6692",
           "#B6E880",
           "#FF97FF",
           "#FECB52"
          ],
          "font": {
           "color": "#2a3f5f"
          },
          "geo": {
           "bgcolor": "white",
           "lakecolor": "white",
           "landcolor": "#E5ECF6",
           "showlakes": true,
           "showland": true,
           "subunitcolor": "white"
          },
          "hoverlabel": {
           "align": "left"
          },
          "hovermode": "closest",
          "mapbox": {
           "style": "light"
          },
          "paper_bgcolor": "white",
          "plot_bgcolor": "#E5ECF6",
          "polar": {
           "angularaxis": {
            "gridcolor": "white",
            "linecolor": "white",
            "ticks": ""
           },
           "bgcolor": "#E5ECF6",
           "radialaxis": {
            "gridcolor": "white",
            "linecolor": "white",
            "ticks": ""
           }
          },
          "scene": {
           "xaxis": {
            "backgroundcolor": "#E5ECF6",
            "gridcolor": "white",
            "gridwidth": 2,
            "linecolor": "white",
            "showbackground": true,
            "ticks": "",
            "zerolinecolor": "white"
           },
           "yaxis": {
            "backgroundcolor": "#E5ECF6",
            "gridcolor": "white",
            "gridwidth": 2,
            "linecolor": "white",
            "showbackground": true,
            "ticks": "",
            "zerolinecolor": "white"
           },
           "zaxis": {
            "backgroundcolor": "#E5ECF6",
            "gridcolor": "white",
            "gridwidth": 2,
            "linecolor": "white",
            "showbackground": true,
            "ticks": "",
            "zerolinecolor": "white"
           }
          },
          "shapedefaults": {
           "line": {
            "color": "#2a3f5f"
           }
          },
          "ternary": {
           "aaxis": {
            "gridcolor": "white",
            "linecolor": "white",
            "ticks": ""
           },
           "baxis": {
            "gridcolor": "white",
            "linecolor": "white",
            "ticks": ""
           },
           "bgcolor": "#E5ECF6",
           "caxis": {
            "gridcolor": "white",
            "linecolor": "white",
            "ticks": ""
           }
          },
          "title": {
           "x": 0.05
          },
          "xaxis": {
           "automargin": true,
           "gridcolor": "white",
           "linecolor": "white",
           "ticks": "",
           "title": {
            "standoff": 15
           },
           "zerolinecolor": "white",
           "zerolinewidth": 2
          },
          "yaxis": {
           "automargin": true,
           "gridcolor": "white",
           "linecolor": "white",
           "ticks": "",
           "title": {
            "standoff": 15
           },
           "zerolinecolor": "white",
           "zerolinewidth": 2
          }
         }
        },
        "title": {
         "text": "Gráfico de Inércia do K-Means"
        },
        "xaxis": {
         "title": {
          "text": "Número de Clusters (k)"
         }
        },
        "yaxis": {
         "title": {
          "text": "Inércia"
         }
        }
       }
      }
     },
     "metadata": {},
     "output_type": "display_data"
    }
   ],
   "source": [
    "import pandas as pd\n",
    "\n",
    "import numpy as np\n",
    "\n",
    "from sklearn.cluster import KMeans\n",
    "from sklearn.metrics import silhouette_score\n",
    "from sklearn.manifold import TSNE\n",
    "\n",
    "import matplotlib.pyplot as plt\n",
    "import plotly.express as px\n",
    "import plotly.graph_objs as go\n",
    "\n",
    "\n",
    "# Aplicando o t-SNE\n",
    "tsne = TSNE(n_components=2, random_state=0)\n",
    "data_tsne = tsne.fit_transform(x)\n",
    "\n",
    "# Seu código para calcular a inércia\n",
    "inertias = []\n",
    "centers = np.arange(1, 50)\n",
    "\n",
    "for k in centers:\n",
    "    kmeans = KMeans(n_clusters=k, random_state=0, n_init='auto').fit(data_tsne)\n",
    "    inertias.append(kmeans.inertia_)\n",
    "\n",
    "# Criação do gráfico interativo\n",
    "fig = go.Figure()\n",
    "fig.add_trace(go.Scatter(x=centers, y=inertias, mode='lines+markers'))\n",
    "fig.update_layout(\n",
    "    title='Gráfico de Inércia do K-Means',\n",
    "    xaxis=dict(title='Número de Clusters (k)'),\n",
    "    yaxis=dict(title='Inércia'),\n",
    ")\n",
    "fig.show()"
   ]
  },
  {
   "cell_type": "code",
   "execution_count": 1279,
   "id": "a77de620",
   "metadata": {},
   "outputs": [
    {
     "name": "stdout",
     "output_type": "stream",
     "text": [
      "Inertia: 1839976.25\n",
      "Silhouette: -0.026638003080877822\n"
     ]
    },
    {
     "data": {
      "image/png": "[encoded data removed]",
      "text/plain": [
       "<Figure size 800x600 with 1 Axes>"
      ]
     },
     "metadata": {},
     "output_type": "display_data"
    }
   ],
   "source": [
    "from sklearn.manifold import TSNE\n",
    "import matplotlib.pyplot as plt\n",
    "\n",
    "# Numero de centros\n",
    "k = 5\n",
    "\n",
    "# Centros\n",
    "kmeans = KMeans(n_clusters=k, random_state=0, n_init='auto').fit(data_tsne)\n",
    "labels = kmeans.labels_\n",
    "\n",
    "print(f\"Inertia: {kmeans.inertia_}\")\n",
    "print(f\"Silhouette: {silhouette_score(data, labels)}\")\n",
    "\n",
    "# Aplicando o t-SNE\n",
    "tsne = TSNE(n_components=2, random_state=0)\n",
    "data_tsne = tsne.fit_transform(data)\n",
    "\n",
    "\n",
    "# Criando um dicionário de mapeamento de rótulos para cores\n",
    "colors = plt.cm.viridis(np.linspace(0, 1, k))\n",
    "color_dict = {}\n",
    "for label, color in zip(range(k), colors):\n",
    "    color_dict[label] = color\n",
    "\n",
    "# Plotando os pontos com cores diferentes para cada rótulo\n",
    "plt.figure(figsize=(8, 6))\n",
    "\n",
    "for label in range(k):\n",
    "    data_label = data_tsne[labels == label]\n",
    "    plt.scatter(data_label[:, 0], data_label[:, 1], label=f'Cluster {label}', color=color_dict[label])\n",
    "\n",
    "# Plotar os centros\n",
    "centers = kmeans.cluster_centers_\n",
    "plt.scatter(centers[:, 0], centers[:, 1], c='green', marker='x', s=100)\n",
    "\n",
    "plt.title('t-SNE Plot com cores dos rótulos')\n",
    "plt.xlabel('Dimensão 1')\n",
    "plt.ylabel('Dimensão 2')\n",
    "plt.legend()\n",
    "plt.show()"
   ]
  },
  {
   "cell_type": "code",
   "execution_count": null,
   "id": "0b89302c",
   "metadata": {},
   "outputs": [],
   "source": []
  }
 ],
 "metadata": {
  "kernelspec": {
   "display_name": "Python 3 (ipykernel)",
   "language": "python",
   "name": "python3"
  },
  "language_info": {
   "codemirror_mode": {
    "name": "ipython",
    "version": 3
   },
   "file_extension": ".py",
   "mimetype": "text/x-python",
   "name": "python",
   "nbconvert_exporter": "python",
   "pygments_lexer": "ipython3",
   "version": "3.10.11"
  }
 },
 "nbformat": 4,
 "nbformat_minor": 5
}
